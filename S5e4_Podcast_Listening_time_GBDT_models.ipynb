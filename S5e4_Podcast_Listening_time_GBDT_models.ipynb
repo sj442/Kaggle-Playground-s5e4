{
  "nbformat": 4,
  "nbformat_minor": 0,
  "metadata": {
    "colab": {
      "provenance": [],
      "gpuType": "T4",
      "authorship_tag": "ABX9TyP/LPsxd+7mu6/HERJjAu/9",
      "include_colab_link": true
    },
    "kernelspec": {
      "name": "python3",
      "display_name": "Python 3"
    },
    "language_info": {
      "name": "python"
    },
    "accelerator": "GPU"
  },
  "cells": [
    {
      "cell_type": "markdown",
      "metadata": {
        "id": "view-in-github",
        "colab_type": "text"
      },
      "source": [
        "<a href=\"https://colab.research.google.com/github/sj442/Predicting-podcast-listening-time/blob/main/S5e4_Podcast_Listening_time_GBDT_models.ipynb\" target=\"_parent\"><img src=\"https://colab.research.google.com/assets/colab-badge.svg\" alt=\"Open In Colab\"/></a>"
      ]
    },
    {
      "cell_type": "markdown",
      "source": [
        "# Imports"
      ],
      "metadata": {
        "id": "9cnPX9Gk4JBK"
      }
    },
    {
      "cell_type": "code",
      "execution_count": null,
      "metadata": {
        "id": "RPi2wgwK2_zK",
        "collapsed": true
      },
      "outputs": [],
      "source": [
        "# Regression #RMSE\n",
        "from google.colab import files\n",
        "files.upload()"
      ]
    },
    {
      "cell_type": "code",
      "source": [
        "! pip install -q kaggle\n",
        "\n",
        "! mkdir ~/.kaggle\n",
        "! cp kaggle.json ~/.kaggle/\n",
        "! chmod 600 ~/.kaggle/kaggle.json\n",
        "\n",
        "!pip install catboost\n",
        "!pip install optuna"
      ],
      "metadata": {
        "collapsed": true,
        "id": "Hh0hJjeB3Es5"
      },
      "execution_count": null,
      "outputs": []
    },
    {
      "cell_type": "code",
      "source": [
        "import catboost\n",
        "from catboost import CatBoostRegressor"
      ],
      "metadata": {
        "id": "P76xpnKjMvru"
      },
      "execution_count": 3,
      "outputs": []
    },
    {
      "cell_type": "code",
      "source": [
        "import numpy as np\n",
        "import pandas as pd\n",
        "import matplotlib.pyplot as plt\n",
        "import seaborn as sns\n",
        "import optuna"
      ],
      "metadata": {
        "id": "1w4dITmv3HKY"
      },
      "execution_count": 2,
      "outputs": []
    },
    {
      "cell_type": "code",
      "source": [
        "from sklearn.model_selection import train_test_split, GridSearchCV\n",
        "from sklearn.ensemble import RandomForestRegressor, GradientBoostingRegressor, AdaBoostRegressor\n",
        "from sklearn.linear_model import LinearRegression, Ridge, Lasso\n",
        "from xgboost import XGBRegressor\n",
        "from lightgbm import LGBMRegressor\n",
        "from sklearn.metrics import root_mean_squared_error\n",
        "from sklearn.model_selection import KFold\n",
        "\n",
        "from sklearn.preprocessing import StandardScaler, LabelEncoder, OneHotEncoder, TargetEncoder, MinMaxScaler"
      ],
      "metadata": {
        "id": "xaZXbxgdaP-5"
      },
      "execution_count": 4,
      "outputs": []
    },
    {
      "cell_type": "code",
      "source": [
        "# Synthetic dataset for competition\n",
        "! kaggle competitions download -c playground-series-s5e4\n",
        "\n",
        "# Original dataset\n",
        "! kaggle datasets download ysthehurricane/podcast-listening-time-prediction-dataset"
      ],
      "metadata": {
        "colab": {
          "base_uri": "https://localhost:8080/"
        },
        "collapsed": true,
        "id": "pRT5s4YC3JRi",
        "outputId": "0eb85fcc-0828-4d49-b1c2-4c0b3526e808"
      },
      "execution_count": 5,
      "outputs": [
        {
          "output_type": "stream",
          "name": "stdout",
          "text": [
            "Dataset URL: https://www.kaggle.com/datasets/ysthehurricane/podcast-listening-time-prediction-dataset\n",
            "License(s): apache-2.0\n"
          ]
        }
      ]
    },
    {
      "cell_type": "code",
      "source": [
        "!git clone https://github.com/rapidsai/rapidsai-csp-utils.git\n",
        "!python rapidsai-csp-utils/colab/pip-install.py\n",
        "\n",
        "!pip install cuml-cu12 --extra-index-url=https://pypi.ngc.nvidia.com"
      ],
      "metadata": {
        "collapsed": true,
        "id": "2Ofj8PhGrVfR"
      },
      "execution_count": null,
      "outputs": []
    },
    {
      "cell_type": "markdown",
      "source": [
        "# Data"
      ],
      "metadata": {
        "id": "ZOgAoETB4rjb"
      }
    },
    {
      "cell_type": "code",
      "source": [
        "import zipfile\n",
        "\n",
        "with zipfile.ZipFile('playground-series-s5e4.zip', 'r') as zip_ref:\n",
        "    zip_ref.extractall('/content/kaggle/')\n",
        "\n",
        "with zipfile.ZipFile('podcast-listening-time-prediction-dataset.zip', 'r') as zip_ref:\n",
        "    zip_ref.extractall('/content/kaggle/')"
      ],
      "metadata": {
        "id": "artEhfd04MEY"
      },
      "execution_count": 7,
      "outputs": []
    },
    {
      "cell_type": "code",
      "source": [
        "train = pd.read_csv('/content/kaggle/train.csv')\n",
        "test = pd.read_csv('/content/kaggle/test.csv')\n",
        "sub = pd.read_csv('/content/kaggle/sample_submission.csv')\n",
        "orig = pd.read_csv('/content/kaggle/podcast_dataset.csv')"
      ],
      "metadata": {
        "id": "v65uWLMF4jX0"
      },
      "execution_count": 8,
      "outputs": []
    },
    {
      "cell_type": "code",
      "source": [
        "Target = 'Listening_Time_minutes'\n",
        "categorical_features = train.select_dtypes(include='object').columns.tolist()\n",
        "numerical_features = train.select_dtypes(exclude='object').columns.tolist()\n",
        "numerical_features = [feature for feature in numerical_features if feature not in (Target, 'id')]"
      ],
      "metadata": {
        "id": "MUN-C2YqDDxq"
      },
      "execution_count": 9,
      "outputs": []
    },
    {
      "cell_type": "code",
      "source": [
        "orig = orig.dropna(subset=[Target])"
      ],
      "metadata": {
        "id": "wm_EvVC0scEw"
      },
      "execution_count": 10,
      "outputs": []
    },
    {
      "cell_type": "markdown",
      "source": [
        "# High level stats"
      ],
      "metadata": {
        "id": "atqmDdqF4uho"
      }
    },
    {
      "cell_type": "code",
      "source": [
        "# Display basic info\n",
        "print(train.info())  # Data types and missing values"
      ],
      "metadata": {
        "colab": {
          "base_uri": "https://localhost:8080/"
        },
        "id": "OhFpSpY94qnJ",
        "outputId": "35b0e476-112b-4301-99a4-6ae90dab7f6e"
      },
      "execution_count": null,
      "outputs": [
        {
          "output_type": "stream",
          "name": "stdout",
          "text": [
            "<class 'pandas.core.frame.DataFrame'>\n",
            "RangeIndex: 750000 entries, 0 to 749999\n",
            "Data columns (total 12 columns):\n",
            " #   Column                       Non-Null Count   Dtype  \n",
            "---  ------                       --------------   -----  \n",
            " 0   id                           750000 non-null  int64  \n",
            " 1   Podcast_Name                 750000 non-null  object \n",
            " 2   Episode_Title                750000 non-null  object \n",
            " 3   Episode_Length_minutes       662907 non-null  float64\n",
            " 4   Genre                        750000 non-null  object \n",
            " 5   Host_Popularity_percentage   750000 non-null  float64\n",
            " 6   Publication_Day              750000 non-null  object \n",
            " 7   Publication_Time             750000 non-null  object \n",
            " 8   Guest_Popularity_percentage  603970 non-null  float64\n",
            " 9   Number_of_Ads                749999 non-null  float64\n",
            " 10  Episode_Sentiment            750000 non-null  object \n",
            " 11  Listening_Time_minutes       750000 non-null  float64\n",
            "dtypes: float64(5), int64(1), object(6)\n",
            "memory usage: 68.7+ MB\n",
            "None\n"
          ]
        }
      ]
    },
    {
      "cell_type": "code",
      "source": [
        "train.describe()"
      ],
      "metadata": {
        "colab": {
          "base_uri": "https://localhost:8080/",
          "height": 320
        },
        "id": "PisJEUz_5DvC",
        "outputId": "0ca70ed0-fba6-4a08-d42e-a041ea34348b"
      },
      "execution_count": null,
      "outputs": [
        {
          "output_type": "execute_result",
          "data": {
            "text/plain": [
              "                  id  Episode_Length_minutes  Host_Popularity_percentage  \\\n",
              "count  750000.000000           662907.000000               750000.000000   \n",
              "mean   374999.500000               64.504738                   59.859901   \n",
              "std    216506.495284               32.969603                   22.873098   \n",
              "min         0.000000                0.000000                    1.300000   \n",
              "25%    187499.750000               35.730000                   39.410000   \n",
              "50%    374999.500000               63.840000                   60.050000   \n",
              "75%    562499.250000               94.070000                   79.530000   \n",
              "max    749999.000000              325.240000                  119.460000   \n",
              "\n",
              "       Guest_Popularity_percentage  Number_of_Ads  Listening_Time_minutes  \n",
              "count                603970.000000  749999.000000           750000.000000  \n",
              "mean                     52.236449       1.348855               45.437406  \n",
              "std                      28.451241       1.151130               27.138306  \n",
              "min                       0.000000       0.000000                0.000000  \n",
              "25%                      28.380000       0.000000               23.178350  \n",
              "50%                      53.580000       1.000000               43.379460  \n",
              "75%                      76.600000       2.000000               64.811580  \n",
              "max                     119.910000     103.910000              119.970000  "
            ],
            "text/html": [
              "\n",
              "  <div id=\"df-d46e608d-909d-409e-80b6-4537f2b7424f\" class=\"colab-df-container\">\n",
              "    <div>\n",
              "<style scoped>\n",
              "    .dataframe tbody tr th:only-of-type {\n",
              "        vertical-align: middle;\n",
              "    }\n",
              "\n",
              "    .dataframe tbody tr th {\n",
              "        vertical-align: top;\n",
              "    }\n",
              "\n",
              "    .dataframe thead th {\n",
              "        text-align: right;\n",
              "    }\n",
              "</style>\n",
              "<table border=\"1\" class=\"dataframe\">\n",
              "  <thead>\n",
              "    <tr style=\"text-align: right;\">\n",
              "      <th></th>\n",
              "      <th>id</th>\n",
              "      <th>Episode_Length_minutes</th>\n",
              "      <th>Host_Popularity_percentage</th>\n",
              "      <th>Guest_Popularity_percentage</th>\n",
              "      <th>Number_of_Ads</th>\n",
              "      <th>Listening_Time_minutes</th>\n",
              "    </tr>\n",
              "  </thead>\n",
              "  <tbody>\n",
              "    <tr>\n",
              "      <th>count</th>\n",
              "      <td>750000.000000</td>\n",
              "      <td>662907.000000</td>\n",
              "      <td>750000.000000</td>\n",
              "      <td>603970.000000</td>\n",
              "      <td>749999.000000</td>\n",
              "      <td>750000.000000</td>\n",
              "    </tr>\n",
              "    <tr>\n",
              "      <th>mean</th>\n",
              "      <td>374999.500000</td>\n",
              "      <td>64.504738</td>\n",
              "      <td>59.859901</td>\n",
              "      <td>52.236449</td>\n",
              "      <td>1.348855</td>\n",
              "      <td>45.437406</td>\n",
              "    </tr>\n",
              "    <tr>\n",
              "      <th>std</th>\n",
              "      <td>216506.495284</td>\n",
              "      <td>32.969603</td>\n",
              "      <td>22.873098</td>\n",
              "      <td>28.451241</td>\n",
              "      <td>1.151130</td>\n",
              "      <td>27.138306</td>\n",
              "    </tr>\n",
              "    <tr>\n",
              "      <th>min</th>\n",
              "      <td>0.000000</td>\n",
              "      <td>0.000000</td>\n",
              "      <td>1.300000</td>\n",
              "      <td>0.000000</td>\n",
              "      <td>0.000000</td>\n",
              "      <td>0.000000</td>\n",
              "    </tr>\n",
              "    <tr>\n",
              "      <th>25%</th>\n",
              "      <td>187499.750000</td>\n",
              "      <td>35.730000</td>\n",
              "      <td>39.410000</td>\n",
              "      <td>28.380000</td>\n",
              "      <td>0.000000</td>\n",
              "      <td>23.178350</td>\n",
              "    </tr>\n",
              "    <tr>\n",
              "      <th>50%</th>\n",
              "      <td>374999.500000</td>\n",
              "      <td>63.840000</td>\n",
              "      <td>60.050000</td>\n",
              "      <td>53.580000</td>\n",
              "      <td>1.000000</td>\n",
              "      <td>43.379460</td>\n",
              "    </tr>\n",
              "    <tr>\n",
              "      <th>75%</th>\n",
              "      <td>562499.250000</td>\n",
              "      <td>94.070000</td>\n",
              "      <td>79.530000</td>\n",
              "      <td>76.600000</td>\n",
              "      <td>2.000000</td>\n",
              "      <td>64.811580</td>\n",
              "    </tr>\n",
              "    <tr>\n",
              "      <th>max</th>\n",
              "      <td>749999.000000</td>\n",
              "      <td>325.240000</td>\n",
              "      <td>119.460000</td>\n",
              "      <td>119.910000</td>\n",
              "      <td>103.910000</td>\n",
              "      <td>119.970000</td>\n",
              "    </tr>\n",
              "  </tbody>\n",
              "</table>\n",
              "</div>\n",
              "    <div class=\"colab-df-buttons\">\n",
              "\n",
              "  <div class=\"colab-df-container\">\n",
              "    <button class=\"colab-df-convert\" onclick=\"convertToInteractive('df-d46e608d-909d-409e-80b6-4537f2b7424f')\"\n",
              "            title=\"Convert this dataframe to an interactive table.\"\n",
              "            style=\"display:none;\">\n",
              "\n",
              "  <svg xmlns=\"http://www.w3.org/2000/svg\" height=\"24px\" viewBox=\"0 -960 960 960\">\n",
              "    <path d=\"M120-120v-720h720v720H120Zm60-500h600v-160H180v160Zm220 220h160v-160H400v160Zm0 220h160v-160H400v160ZM180-400h160v-160H180v160Zm440 0h160v-160H620v160ZM180-180h160v-160H180v160Zm440 0h160v-160H620v160Z\"/>\n",
              "  </svg>\n",
              "    </button>\n",
              "\n",
              "  <style>\n",
              "    .colab-df-container {\n",
              "      display:flex;\n",
              "      gap: 12px;\n",
              "    }\n",
              "\n",
              "    .colab-df-convert {\n",
              "      background-color: #E8F0FE;\n",
              "      border: none;\n",
              "      border-radius: 50%;\n",
              "      cursor: pointer;\n",
              "      display: none;\n",
              "      fill: #1967D2;\n",
              "      height: 32px;\n",
              "      padding: 0 0 0 0;\n",
              "      width: 32px;\n",
              "    }\n",
              "\n",
              "    .colab-df-convert:hover {\n",
              "      background-color: #E2EBFA;\n",
              "      box-shadow: 0px 1px 2px rgba(60, 64, 67, 0.3), 0px 1px 3px 1px rgba(60, 64, 67, 0.15);\n",
              "      fill: #174EA6;\n",
              "    }\n",
              "\n",
              "    .colab-df-buttons div {\n",
              "      margin-bottom: 4px;\n",
              "    }\n",
              "\n",
              "    [theme=dark] .colab-df-convert {\n",
              "      background-color: #3B4455;\n",
              "      fill: #D2E3FC;\n",
              "    }\n",
              "\n",
              "    [theme=dark] .colab-df-convert:hover {\n",
              "      background-color: #434B5C;\n",
              "      box-shadow: 0px 1px 3px 1px rgba(0, 0, 0, 0.15);\n",
              "      filter: drop-shadow(0px 1px 2px rgba(0, 0, 0, 0.3));\n",
              "      fill: #FFFFFF;\n",
              "    }\n",
              "  </style>\n",
              "\n",
              "    <script>\n",
              "      const buttonEl =\n",
              "        document.querySelector('#df-d46e608d-909d-409e-80b6-4537f2b7424f button.colab-df-convert');\n",
              "      buttonEl.style.display =\n",
              "        google.colab.kernel.accessAllowed ? 'block' : 'none';\n",
              "\n",
              "      async function convertToInteractive(key) {\n",
              "        const element = document.querySelector('#df-d46e608d-909d-409e-80b6-4537f2b7424f');\n",
              "        const dataTable =\n",
              "          await google.colab.kernel.invokeFunction('convertToInteractive',\n",
              "                                                    [key], {});\n",
              "        if (!dataTable) return;\n",
              "\n",
              "        const docLinkHtml = 'Like what you see? Visit the ' +\n",
              "          '<a target=\"_blank\" href=https://colab.research.google.com/notebooks/data_table.ipynb>data table notebook</a>'\n",
              "          + ' to learn more about interactive tables.';\n",
              "        element.innerHTML = '';\n",
              "        dataTable['output_type'] = 'display_data';\n",
              "        await google.colab.output.renderOutput(dataTable, element);\n",
              "        const docLink = document.createElement('div');\n",
              "        docLink.innerHTML = docLinkHtml;\n",
              "        element.appendChild(docLink);\n",
              "      }\n",
              "    </script>\n",
              "  </div>\n",
              "\n",
              "\n",
              "<div id=\"df-e06e3689-8fc4-4e01-9f6c-004b21d43d0b\">\n",
              "  <button class=\"colab-df-quickchart\" onclick=\"quickchart('df-e06e3689-8fc4-4e01-9f6c-004b21d43d0b')\"\n",
              "            title=\"Suggest charts\"\n",
              "            style=\"display:none;\">\n",
              "\n",
              "<svg xmlns=\"http://www.w3.org/2000/svg\" height=\"24px\"viewBox=\"0 0 24 24\"\n",
              "     width=\"24px\">\n",
              "    <g>\n",
              "        <path d=\"M19 3H5c-1.1 0-2 .9-2 2v14c0 1.1.9 2 2 2h14c1.1 0 2-.9 2-2V5c0-1.1-.9-2-2-2zM9 17H7v-7h2v7zm4 0h-2V7h2v10zm4 0h-2v-4h2v4z\"/>\n",
              "    </g>\n",
              "</svg>\n",
              "  </button>\n",
              "\n",
              "<style>\n",
              "  .colab-df-quickchart {\n",
              "      --bg-color: #E8F0FE;\n",
              "      --fill-color: #1967D2;\n",
              "      --hover-bg-color: #E2EBFA;\n",
              "      --hover-fill-color: #174EA6;\n",
              "      --disabled-fill-color: #AAA;\n",
              "      --disabled-bg-color: #DDD;\n",
              "  }\n",
              "\n",
              "  [theme=dark] .colab-df-quickchart {\n",
              "      --bg-color: #3B4455;\n",
              "      --fill-color: #D2E3FC;\n",
              "      --hover-bg-color: #434B5C;\n",
              "      --hover-fill-color: #FFFFFF;\n",
              "      --disabled-bg-color: #3B4455;\n",
              "      --disabled-fill-color: #666;\n",
              "  }\n",
              "\n",
              "  .colab-df-quickchart {\n",
              "    background-color: var(--bg-color);\n",
              "    border: none;\n",
              "    border-radius: 50%;\n",
              "    cursor: pointer;\n",
              "    display: none;\n",
              "    fill: var(--fill-color);\n",
              "    height: 32px;\n",
              "    padding: 0;\n",
              "    width: 32px;\n",
              "  }\n",
              "\n",
              "  .colab-df-quickchart:hover {\n",
              "    background-color: var(--hover-bg-color);\n",
              "    box-shadow: 0 1px 2px rgba(60, 64, 67, 0.3), 0 1px 3px 1px rgba(60, 64, 67, 0.15);\n",
              "    fill: var(--button-hover-fill-color);\n",
              "  }\n",
              "\n",
              "  .colab-df-quickchart-complete:disabled,\n",
              "  .colab-df-quickchart-complete:disabled:hover {\n",
              "    background-color: var(--disabled-bg-color);\n",
              "    fill: var(--disabled-fill-color);\n",
              "    box-shadow: none;\n",
              "  }\n",
              "\n",
              "  .colab-df-spinner {\n",
              "    border: 2px solid var(--fill-color);\n",
              "    border-color: transparent;\n",
              "    border-bottom-color: var(--fill-color);\n",
              "    animation:\n",
              "      spin 1s steps(1) infinite;\n",
              "  }\n",
              "\n",
              "  @keyframes spin {\n",
              "    0% {\n",
              "      border-color: transparent;\n",
              "      border-bottom-color: var(--fill-color);\n",
              "      border-left-color: var(--fill-color);\n",
              "    }\n",
              "    20% {\n",
              "      border-color: transparent;\n",
              "      border-left-color: var(--fill-color);\n",
              "      border-top-color: var(--fill-color);\n",
              "    }\n",
              "    30% {\n",
              "      border-color: transparent;\n",
              "      border-left-color: var(--fill-color);\n",
              "      border-top-color: var(--fill-color);\n",
              "      border-right-color: var(--fill-color);\n",
              "    }\n",
              "    40% {\n",
              "      border-color: transparent;\n",
              "      border-right-color: var(--fill-color);\n",
              "      border-top-color: var(--fill-color);\n",
              "    }\n",
              "    60% {\n",
              "      border-color: transparent;\n",
              "      border-right-color: var(--fill-color);\n",
              "    }\n",
              "    80% {\n",
              "      border-color: transparent;\n",
              "      border-right-color: var(--fill-color);\n",
              "      border-bottom-color: var(--fill-color);\n",
              "    }\n",
              "    90% {\n",
              "      border-color: transparent;\n",
              "      border-bottom-color: var(--fill-color);\n",
              "    }\n",
              "  }\n",
              "</style>\n",
              "\n",
              "  <script>\n",
              "    async function quickchart(key) {\n",
              "      const quickchartButtonEl =\n",
              "        document.querySelector('#' + key + ' button');\n",
              "      quickchartButtonEl.disabled = true;  // To prevent multiple clicks.\n",
              "      quickchartButtonEl.classList.add('colab-df-spinner');\n",
              "      try {\n",
              "        const charts = await google.colab.kernel.invokeFunction(\n",
              "            'suggestCharts', [key], {});\n",
              "      } catch (error) {\n",
              "        console.error('Error during call to suggestCharts:', error);\n",
              "      }\n",
              "      quickchartButtonEl.classList.remove('colab-df-spinner');\n",
              "      quickchartButtonEl.classList.add('colab-df-quickchart-complete');\n",
              "    }\n",
              "    (() => {\n",
              "      let quickchartButtonEl =\n",
              "        document.querySelector('#df-e06e3689-8fc4-4e01-9f6c-004b21d43d0b button');\n",
              "      quickchartButtonEl.style.display =\n",
              "        google.colab.kernel.accessAllowed ? 'block' : 'none';\n",
              "    })();\n",
              "  </script>\n",
              "</div>\n",
              "\n",
              "    </div>\n",
              "  </div>\n"
            ],
            "application/vnd.google.colaboratory.intrinsic+json": {
              "type": "dataframe",
              "summary": "{\n  \"name\": \"train\",\n  \"rows\": 8,\n  \"fields\": [\n    {\n      \"column\": \"id\",\n      \"properties\": {\n        \"dtype\": \"number\",\n        \"std\": 270303.4097098919,\n        \"min\": 0.0,\n        \"max\": 750000.0,\n        \"num_unique_values\": 7,\n        \"samples\": [\n          750000.0,\n          374999.5,\n          562499.25\n        ],\n        \"semantic_type\": \"\",\n        \"description\": \"\"\n      }\n    },\n    {\n      \"column\": \"Episode_Length_minutes\",\n      \"properties\": {\n        \"dtype\": \"number\",\n        \"std\": 234341.9085316037,\n        \"min\": 0.0,\n        \"max\": 662907.0,\n        \"num_unique_values\": 8,\n        \"samples\": [\n          64.50473835100327,\n          63.84,\n          662907.0\n        ],\n        \"semantic_type\": \"\",\n        \"description\": \"\"\n      }\n    },\n    {\n      \"column\": \"Host_Popularity_percentage\",\n      \"properties\": {\n        \"dtype\": \"number\",\n        \"std\": 265145.7270510761,\n        \"min\": 1.3,\n        \"max\": 750000.0,\n        \"num_unique_values\": 8,\n        \"samples\": [\n          59.859900753900014,\n          60.05,\n          750000.0\n        ],\n        \"semantic_type\": \"\",\n        \"description\": \"\"\n      }\n    },\n    {\n      \"column\": \"Guest_Popularity_percentage\",\n      \"properties\": {\n        \"dtype\": \"number\",\n        \"std\": 213517.5041355727,\n        \"min\": 0.0,\n        \"max\": 603970.0,\n        \"num_unique_values\": 8,\n        \"samples\": [\n          52.23644893379308,\n          53.58,\n          603970.0\n        ],\n        \"semantic_type\": \"\",\n        \"description\": \"\"\n      }\n    },\n    {\n      \"column\": \"Number_of_Ads\",\n      \"properties\": {\n        \"dtype\": \"number\",\n        \"std\": 265159.16580291884,\n        \"min\": 0.0,\n        \"max\": 749999.0,\n        \"num_unique_values\": 7,\n        \"samples\": [\n          749999.0,\n          1.3488549051398737,\n          2.0\n        ],\n        \"semantic_type\": \"\",\n        \"description\": \"\"\n      }\n    },\n    {\n      \"column\": \"Listening_Time_minutes\",\n      \"properties\": {\n        \"dtype\": \"number\",\n        \"std\": 265148.6851390124,\n        \"min\": 0.0,\n        \"max\": 750000.0,\n        \"num_unique_values\": 8,\n        \"samples\": [\n          45.43740628813335,\n          43.37946,\n          750000.0\n        ],\n        \"semantic_type\": \"\",\n        \"description\": \"\"\n      }\n    }\n  ]\n}"
            }
          },
          "metadata": {},
          "execution_count": 10
        }
      ]
    },
    {
      "cell_type": "code",
      "source": [
        "train.describe(include='object')"
      ],
      "metadata": {
        "colab": {
          "base_uri": "https://localhost:8080/",
          "height": 175
        },
        "id": "pprKoOg30t9z",
        "outputId": "304e94b5-ec13-4608-ba36-b32160bbcc85"
      },
      "execution_count": null,
      "outputs": [
        {
          "output_type": "execute_result",
          "data": {
            "text/plain": [
              "       Podcast_Name Episode_Title   Genre Publication_Day Publication_Time  \\\n",
              "count        750000        750000  750000          750000           750000   \n",
              "unique           48           100      10               7                4   \n",
              "top      Tech Talks    Episode 71  Sports          Sunday            Night   \n",
              "freq          22847         10515   87606          115946           196849   \n",
              "\n",
              "       Episode_Sentiment  \n",
              "count             750000  \n",
              "unique                 3  \n",
              "top              Neutral  \n",
              "freq              251291  "
            ],
            "text/html": [
              "\n",
              "  <div id=\"df-e5a82b3f-1304-426d-8514-f96eac2849b5\" class=\"colab-df-container\">\n",
              "    <div>\n",
              "<style scoped>\n",
              "    .dataframe tbody tr th:only-of-type {\n",
              "        vertical-align: middle;\n",
              "    }\n",
              "\n",
              "    .dataframe tbody tr th {\n",
              "        vertical-align: top;\n",
              "    }\n",
              "\n",
              "    .dataframe thead th {\n",
              "        text-align: right;\n",
              "    }\n",
              "</style>\n",
              "<table border=\"1\" class=\"dataframe\">\n",
              "  <thead>\n",
              "    <tr style=\"text-align: right;\">\n",
              "      <th></th>\n",
              "      <th>Podcast_Name</th>\n",
              "      <th>Episode_Title</th>\n",
              "      <th>Genre</th>\n",
              "      <th>Publication_Day</th>\n",
              "      <th>Publication_Time</th>\n",
              "      <th>Episode_Sentiment</th>\n",
              "    </tr>\n",
              "  </thead>\n",
              "  <tbody>\n",
              "    <tr>\n",
              "      <th>count</th>\n",
              "      <td>750000</td>\n",
              "      <td>750000</td>\n",
              "      <td>750000</td>\n",
              "      <td>750000</td>\n",
              "      <td>750000</td>\n",
              "      <td>750000</td>\n",
              "    </tr>\n",
              "    <tr>\n",
              "      <th>unique</th>\n",
              "      <td>48</td>\n",
              "      <td>100</td>\n",
              "      <td>10</td>\n",
              "      <td>7</td>\n",
              "      <td>4</td>\n",
              "      <td>3</td>\n",
              "    </tr>\n",
              "    <tr>\n",
              "      <th>top</th>\n",
              "      <td>Tech Talks</td>\n",
              "      <td>Episode 71</td>\n",
              "      <td>Sports</td>\n",
              "      <td>Sunday</td>\n",
              "      <td>Night</td>\n",
              "      <td>Neutral</td>\n",
              "    </tr>\n",
              "    <tr>\n",
              "      <th>freq</th>\n",
              "      <td>22847</td>\n",
              "      <td>10515</td>\n",
              "      <td>87606</td>\n",
              "      <td>115946</td>\n",
              "      <td>196849</td>\n",
              "      <td>251291</td>\n",
              "    </tr>\n",
              "  </tbody>\n",
              "</table>\n",
              "</div>\n",
              "    <div class=\"colab-df-buttons\">\n",
              "\n",
              "  <div class=\"colab-df-container\">\n",
              "    <button class=\"colab-df-convert\" onclick=\"convertToInteractive('df-e5a82b3f-1304-426d-8514-f96eac2849b5')\"\n",
              "            title=\"Convert this dataframe to an interactive table.\"\n",
              "            style=\"display:none;\">\n",
              "\n",
              "  <svg xmlns=\"http://www.w3.org/2000/svg\" height=\"24px\" viewBox=\"0 -960 960 960\">\n",
              "    <path d=\"M120-120v-720h720v720H120Zm60-500h600v-160H180v160Zm220 220h160v-160H400v160Zm0 220h160v-160H400v160ZM180-400h160v-160H180v160Zm440 0h160v-160H620v160ZM180-180h160v-160H180v160Zm440 0h160v-160H620v160Z\"/>\n",
              "  </svg>\n",
              "    </button>\n",
              "\n",
              "  <style>\n",
              "    .colab-df-container {\n",
              "      display:flex;\n",
              "      gap: 12px;\n",
              "    }\n",
              "\n",
              "    .colab-df-convert {\n",
              "      background-color: #E8F0FE;\n",
              "      border: none;\n",
              "      border-radius: 50%;\n",
              "      cursor: pointer;\n",
              "      display: none;\n",
              "      fill: #1967D2;\n",
              "      height: 32px;\n",
              "      padding: 0 0 0 0;\n",
              "      width: 32px;\n",
              "    }\n",
              "\n",
              "    .colab-df-convert:hover {\n",
              "      background-color: #E2EBFA;\n",
              "      box-shadow: 0px 1px 2px rgba(60, 64, 67, 0.3), 0px 1px 3px 1px rgba(60, 64, 67, 0.15);\n",
              "      fill: #174EA6;\n",
              "    }\n",
              "\n",
              "    .colab-df-buttons div {\n",
              "      margin-bottom: 4px;\n",
              "    }\n",
              "\n",
              "    [theme=dark] .colab-df-convert {\n",
              "      background-color: #3B4455;\n",
              "      fill: #D2E3FC;\n",
              "    }\n",
              "\n",
              "    [theme=dark] .colab-df-convert:hover {\n",
              "      background-color: #434B5C;\n",
              "      box-shadow: 0px 1px 3px 1px rgba(0, 0, 0, 0.15);\n",
              "      filter: drop-shadow(0px 1px 2px rgba(0, 0, 0, 0.3));\n",
              "      fill: #FFFFFF;\n",
              "    }\n",
              "  </style>\n",
              "\n",
              "    <script>\n",
              "      const buttonEl =\n",
              "        document.querySelector('#df-e5a82b3f-1304-426d-8514-f96eac2849b5 button.colab-df-convert');\n",
              "      buttonEl.style.display =\n",
              "        google.colab.kernel.accessAllowed ? 'block' : 'none';\n",
              "\n",
              "      async function convertToInteractive(key) {\n",
              "        const element = document.querySelector('#df-e5a82b3f-1304-426d-8514-f96eac2849b5');\n",
              "        const dataTable =\n",
              "          await google.colab.kernel.invokeFunction('convertToInteractive',\n",
              "                                                    [key], {});\n",
              "        if (!dataTable) return;\n",
              "\n",
              "        const docLinkHtml = 'Like what you see? Visit the ' +\n",
              "          '<a target=\"_blank\" href=https://colab.research.google.com/notebooks/data_table.ipynb>data table notebook</a>'\n",
              "          + ' to learn more about interactive tables.';\n",
              "        element.innerHTML = '';\n",
              "        dataTable['output_type'] = 'display_data';\n",
              "        await google.colab.output.renderOutput(dataTable, element);\n",
              "        const docLink = document.createElement('div');\n",
              "        docLink.innerHTML = docLinkHtml;\n",
              "        element.appendChild(docLink);\n",
              "      }\n",
              "    </script>\n",
              "  </div>\n",
              "\n",
              "\n",
              "<div id=\"df-45ae6faf-b2ea-43a1-acb3-c45e524c0eda\">\n",
              "  <button class=\"colab-df-quickchart\" onclick=\"quickchart('df-45ae6faf-b2ea-43a1-acb3-c45e524c0eda')\"\n",
              "            title=\"Suggest charts\"\n",
              "            style=\"display:none;\">\n",
              "\n",
              "<svg xmlns=\"http://www.w3.org/2000/svg\" height=\"24px\"viewBox=\"0 0 24 24\"\n",
              "     width=\"24px\">\n",
              "    <g>\n",
              "        <path d=\"M19 3H5c-1.1 0-2 .9-2 2v14c0 1.1.9 2 2 2h14c1.1 0 2-.9 2-2V5c0-1.1-.9-2-2-2zM9 17H7v-7h2v7zm4 0h-2V7h2v10zm4 0h-2v-4h2v4z\"/>\n",
              "    </g>\n",
              "</svg>\n",
              "  </button>\n",
              "\n",
              "<style>\n",
              "  .colab-df-quickchart {\n",
              "      --bg-color: #E8F0FE;\n",
              "      --fill-color: #1967D2;\n",
              "      --hover-bg-color: #E2EBFA;\n",
              "      --hover-fill-color: #174EA6;\n",
              "      --disabled-fill-color: #AAA;\n",
              "      --disabled-bg-color: #DDD;\n",
              "  }\n",
              "\n",
              "  [theme=dark] .colab-df-quickchart {\n",
              "      --bg-color: #3B4455;\n",
              "      --fill-color: #D2E3FC;\n",
              "      --hover-bg-color: #434B5C;\n",
              "      --hover-fill-color: #FFFFFF;\n",
              "      --disabled-bg-color: #3B4455;\n",
              "      --disabled-fill-color: #666;\n",
              "  }\n",
              "\n",
              "  .colab-df-quickchart {\n",
              "    background-color: var(--bg-color);\n",
              "    border: none;\n",
              "    border-radius: 50%;\n",
              "    cursor: pointer;\n",
              "    display: none;\n",
              "    fill: var(--fill-color);\n",
              "    height: 32px;\n",
              "    padding: 0;\n",
              "    width: 32px;\n",
              "  }\n",
              "\n",
              "  .colab-df-quickchart:hover {\n",
              "    background-color: var(--hover-bg-color);\n",
              "    box-shadow: 0 1px 2px rgba(60, 64, 67, 0.3), 0 1px 3px 1px rgba(60, 64, 67, 0.15);\n",
              "    fill: var(--button-hover-fill-color);\n",
              "  }\n",
              "\n",
              "  .colab-df-quickchart-complete:disabled,\n",
              "  .colab-df-quickchart-complete:disabled:hover {\n",
              "    background-color: var(--disabled-bg-color);\n",
              "    fill: var(--disabled-fill-color);\n",
              "    box-shadow: none;\n",
              "  }\n",
              "\n",
              "  .colab-df-spinner {\n",
              "    border: 2px solid var(--fill-color);\n",
              "    border-color: transparent;\n",
              "    border-bottom-color: var(--fill-color);\n",
              "    animation:\n",
              "      spin 1s steps(1) infinite;\n",
              "  }\n",
              "\n",
              "  @keyframes spin {\n",
              "    0% {\n",
              "      border-color: transparent;\n",
              "      border-bottom-color: var(--fill-color);\n",
              "      border-left-color: var(--fill-color);\n",
              "    }\n",
              "    20% {\n",
              "      border-color: transparent;\n",
              "      border-left-color: var(--fill-color);\n",
              "      border-top-color: var(--fill-color);\n",
              "    }\n",
              "    30% {\n",
              "      border-color: transparent;\n",
              "      border-left-color: var(--fill-color);\n",
              "      border-top-color: var(--fill-color);\n",
              "      border-right-color: var(--fill-color);\n",
              "    }\n",
              "    40% {\n",
              "      border-color: transparent;\n",
              "      border-right-color: var(--fill-color);\n",
              "      border-top-color: var(--fill-color);\n",
              "    }\n",
              "    60% {\n",
              "      border-color: transparent;\n",
              "      border-right-color: var(--fill-color);\n",
              "    }\n",
              "    80% {\n",
              "      border-color: transparent;\n",
              "      border-right-color: var(--fill-color);\n",
              "      border-bottom-color: var(--fill-color);\n",
              "    }\n",
              "    90% {\n",
              "      border-color: transparent;\n",
              "      border-bottom-color: var(--fill-color);\n",
              "    }\n",
              "  }\n",
              "</style>\n",
              "\n",
              "  <script>\n",
              "    async function quickchart(key) {\n",
              "      const quickchartButtonEl =\n",
              "        document.querySelector('#' + key + ' button');\n",
              "      quickchartButtonEl.disabled = true;  // To prevent multiple clicks.\n",
              "      quickchartButtonEl.classList.add('colab-df-spinner');\n",
              "      try {\n",
              "        const charts = await google.colab.kernel.invokeFunction(\n",
              "            'suggestCharts', [key], {});\n",
              "      } catch (error) {\n",
              "        console.error('Error during call to suggestCharts:', error);\n",
              "      }\n",
              "      quickchartButtonEl.classList.remove('colab-df-spinner');\n",
              "      quickchartButtonEl.classList.add('colab-df-quickchart-complete');\n",
              "    }\n",
              "    (() => {\n",
              "      let quickchartButtonEl =\n",
              "        document.querySelector('#df-45ae6faf-b2ea-43a1-acb3-c45e524c0eda button');\n",
              "      quickchartButtonEl.style.display =\n",
              "        google.colab.kernel.accessAllowed ? 'block' : 'none';\n",
              "    })();\n",
              "  </script>\n",
              "</div>\n",
              "\n",
              "    </div>\n",
              "  </div>\n"
            ],
            "application/vnd.google.colaboratory.intrinsic+json": {
              "type": "dataframe",
              "summary": "{\n  \"name\": \"train\",\n  \"rows\": 4,\n  \"fields\": [\n    {\n      \"column\": \"Podcast_Name\",\n      \"properties\": {\n        \"dtype\": \"string\",\n        \"num_unique_values\": 4,\n        \"samples\": [\n          48,\n          \"22847\",\n          \"750000\"\n        ],\n        \"semantic_type\": \"\",\n        \"description\": \"\"\n      }\n    },\n    {\n      \"column\": \"Episode_Title\",\n      \"properties\": {\n        \"dtype\": \"string\",\n        \"num_unique_values\": 4,\n        \"samples\": [\n          100,\n          \"10515\",\n          \"750000\"\n        ],\n        \"semantic_type\": \"\",\n        \"description\": \"\"\n      }\n    },\n    {\n      \"column\": \"Genre\",\n      \"properties\": {\n        \"dtype\": \"string\",\n        \"num_unique_values\": 4,\n        \"samples\": [\n          10,\n          \"87606\",\n          \"750000\"\n        ],\n        \"semantic_type\": \"\",\n        \"description\": \"\"\n      }\n    },\n    {\n      \"column\": \"Publication_Day\",\n      \"properties\": {\n        \"dtype\": \"string\",\n        \"num_unique_values\": 4,\n        \"samples\": [\n          7,\n          \"115946\",\n          \"750000\"\n        ],\n        \"semantic_type\": \"\",\n        \"description\": \"\"\n      }\n    },\n    {\n      \"column\": \"Publication_Time\",\n      \"properties\": {\n        \"dtype\": \"string\",\n        \"num_unique_values\": 4,\n        \"samples\": [\n          4,\n          \"196849\",\n          \"750000\"\n        ],\n        \"semantic_type\": \"\",\n        \"description\": \"\"\n      }\n    },\n    {\n      \"column\": \"Episode_Sentiment\",\n      \"properties\": {\n        \"dtype\": \"string\",\n        \"num_unique_values\": 4,\n        \"samples\": [\n          3,\n          \"251291\",\n          \"750000\"\n        ],\n        \"semantic_type\": \"\",\n        \"description\": \"\"\n      }\n    }\n  ]\n}"
            }
          },
          "metadata": {},
          "execution_count": 12
        }
      ]
    },
    {
      "cell_type": "code",
      "source": [
        "train.head()"
      ],
      "metadata": {
        "colab": {
          "base_uri": "https://localhost:8080/",
          "height": 226
        },
        "id": "SSmU5m1S5HsY",
        "outputId": "e416c2e0-6897-49ac-a51e-9d29c0deea11"
      },
      "execution_count": null,
      "outputs": [
        {
          "output_type": "execute_result",
          "data": {
            "text/plain": [
              "   id     Podcast_Name Episode_Title  Episode_Length_minutes       Genre  \\\n",
              "0   0  Mystery Matters    Episode 98                     NaN  True Crime   \n",
              "1   1    Joke Junction    Episode 26                  119.80      Comedy   \n",
              "2   2   Study Sessions    Episode 16                   73.90   Education   \n",
              "3   3   Digital Digest    Episode 45                   67.17  Technology   \n",
              "4   4      Mind & Body    Episode 86                  110.51      Health   \n",
              "\n",
              "   Host_Popularity_percentage Publication_Day Publication_Time  \\\n",
              "0                       74.81        Thursday            Night   \n",
              "1                       66.95        Saturday        Afternoon   \n",
              "2                       69.97         Tuesday          Evening   \n",
              "3                       57.22          Monday          Morning   \n",
              "4                       80.07          Monday        Afternoon   \n",
              "\n",
              "   Guest_Popularity_percentage  Number_of_Ads Episode_Sentiment  \\\n",
              "0                          NaN            0.0          Positive   \n",
              "1                        75.95            2.0          Negative   \n",
              "2                         8.97            0.0          Negative   \n",
              "3                        78.70            2.0          Positive   \n",
              "4                        58.68            3.0           Neutral   \n",
              "\n",
              "   Listening_Time_minutes  \n",
              "0                31.41998  \n",
              "1                88.01241  \n",
              "2                44.92531  \n",
              "3                46.27824  \n",
              "4                75.61031  "
            ],
            "text/html": [
              "\n",
              "  <div id=\"df-86576e66-0103-4901-8bf6-7fdd8ff680e7\" class=\"colab-df-container\">\n",
              "    <div>\n",
              "<style scoped>\n",
              "    .dataframe tbody tr th:only-of-type {\n",
              "        vertical-align: middle;\n",
              "    }\n",
              "\n",
              "    .dataframe tbody tr th {\n",
              "        vertical-align: top;\n",
              "    }\n",
              "\n",
              "    .dataframe thead th {\n",
              "        text-align: right;\n",
              "    }\n",
              "</style>\n",
              "<table border=\"1\" class=\"dataframe\">\n",
              "  <thead>\n",
              "    <tr style=\"text-align: right;\">\n",
              "      <th></th>\n",
              "      <th>id</th>\n",
              "      <th>Podcast_Name</th>\n",
              "      <th>Episode_Title</th>\n",
              "      <th>Episode_Length_minutes</th>\n",
              "      <th>Genre</th>\n",
              "      <th>Host_Popularity_percentage</th>\n",
              "      <th>Publication_Day</th>\n",
              "      <th>Publication_Time</th>\n",
              "      <th>Guest_Popularity_percentage</th>\n",
              "      <th>Number_of_Ads</th>\n",
              "      <th>Episode_Sentiment</th>\n",
              "      <th>Listening_Time_minutes</th>\n",
              "    </tr>\n",
              "  </thead>\n",
              "  <tbody>\n",
              "    <tr>\n",
              "      <th>0</th>\n",
              "      <td>0</td>\n",
              "      <td>Mystery Matters</td>\n",
              "      <td>Episode 98</td>\n",
              "      <td>NaN</td>\n",
              "      <td>True Crime</td>\n",
              "      <td>74.81</td>\n",
              "      <td>Thursday</td>\n",
              "      <td>Night</td>\n",
              "      <td>NaN</td>\n",
              "      <td>0.0</td>\n",
              "      <td>Positive</td>\n",
              "      <td>31.41998</td>\n",
              "    </tr>\n",
              "    <tr>\n",
              "      <th>1</th>\n",
              "      <td>1</td>\n",
              "      <td>Joke Junction</td>\n",
              "      <td>Episode 26</td>\n",
              "      <td>119.80</td>\n",
              "      <td>Comedy</td>\n",
              "      <td>66.95</td>\n",
              "      <td>Saturday</td>\n",
              "      <td>Afternoon</td>\n",
              "      <td>75.95</td>\n",
              "      <td>2.0</td>\n",
              "      <td>Negative</td>\n",
              "      <td>88.01241</td>\n",
              "    </tr>\n",
              "    <tr>\n",
              "      <th>2</th>\n",
              "      <td>2</td>\n",
              "      <td>Study Sessions</td>\n",
              "      <td>Episode 16</td>\n",
              "      <td>73.90</td>\n",
              "      <td>Education</td>\n",
              "      <td>69.97</td>\n",
              "      <td>Tuesday</td>\n",
              "      <td>Evening</td>\n",
              "      <td>8.97</td>\n",
              "      <td>0.0</td>\n",
              "      <td>Negative</td>\n",
              "      <td>44.92531</td>\n",
              "    </tr>\n",
              "    <tr>\n",
              "      <th>3</th>\n",
              "      <td>3</td>\n",
              "      <td>Digital Digest</td>\n",
              "      <td>Episode 45</td>\n",
              "      <td>67.17</td>\n",
              "      <td>Technology</td>\n",
              "      <td>57.22</td>\n",
              "      <td>Monday</td>\n",
              "      <td>Morning</td>\n",
              "      <td>78.70</td>\n",
              "      <td>2.0</td>\n",
              "      <td>Positive</td>\n",
              "      <td>46.27824</td>\n",
              "    </tr>\n",
              "    <tr>\n",
              "      <th>4</th>\n",
              "      <td>4</td>\n",
              "      <td>Mind &amp; Body</td>\n",
              "      <td>Episode 86</td>\n",
              "      <td>110.51</td>\n",
              "      <td>Health</td>\n",
              "      <td>80.07</td>\n",
              "      <td>Monday</td>\n",
              "      <td>Afternoon</td>\n",
              "      <td>58.68</td>\n",
              "      <td>3.0</td>\n",
              "      <td>Neutral</td>\n",
              "      <td>75.61031</td>\n",
              "    </tr>\n",
              "  </tbody>\n",
              "</table>\n",
              "</div>\n",
              "    <div class=\"colab-df-buttons\">\n",
              "\n",
              "  <div class=\"colab-df-container\">\n",
              "    <button class=\"colab-df-convert\" onclick=\"convertToInteractive('df-86576e66-0103-4901-8bf6-7fdd8ff680e7')\"\n",
              "            title=\"Convert this dataframe to an interactive table.\"\n",
              "            style=\"display:none;\">\n",
              "\n",
              "  <svg xmlns=\"http://www.w3.org/2000/svg\" height=\"24px\" viewBox=\"0 -960 960 960\">\n",
              "    <path d=\"M120-120v-720h720v720H120Zm60-500h600v-160H180v160Zm220 220h160v-160H400v160Zm0 220h160v-160H400v160ZM180-400h160v-160H180v160Zm440 0h160v-160H620v160ZM180-180h160v-160H180v160Zm440 0h160v-160H620v160Z\"/>\n",
              "  </svg>\n",
              "    </button>\n",
              "\n",
              "  <style>\n",
              "    .colab-df-container {\n",
              "      display:flex;\n",
              "      gap: 12px;\n",
              "    }\n",
              "\n",
              "    .colab-df-convert {\n",
              "      background-color: #E8F0FE;\n",
              "      border: none;\n",
              "      border-radius: 50%;\n",
              "      cursor: pointer;\n",
              "      display: none;\n",
              "      fill: #1967D2;\n",
              "      height: 32px;\n",
              "      padding: 0 0 0 0;\n",
              "      width: 32px;\n",
              "    }\n",
              "\n",
              "    .colab-df-convert:hover {\n",
              "      background-color: #E2EBFA;\n",
              "      box-shadow: 0px 1px 2px rgba(60, 64, 67, 0.3), 0px 1px 3px 1px rgba(60, 64, 67, 0.15);\n",
              "      fill: #174EA6;\n",
              "    }\n",
              "\n",
              "    .colab-df-buttons div {\n",
              "      margin-bottom: 4px;\n",
              "    }\n",
              "\n",
              "    [theme=dark] .colab-df-convert {\n",
              "      background-color: #3B4455;\n",
              "      fill: #D2E3FC;\n",
              "    }\n",
              "\n",
              "    [theme=dark] .colab-df-convert:hover {\n",
              "      background-color: #434B5C;\n",
              "      box-shadow: 0px 1px 3px 1px rgba(0, 0, 0, 0.15);\n",
              "      filter: drop-shadow(0px 1px 2px rgba(0, 0, 0, 0.3));\n",
              "      fill: #FFFFFF;\n",
              "    }\n",
              "  </style>\n",
              "\n",
              "    <script>\n",
              "      const buttonEl =\n",
              "        document.querySelector('#df-86576e66-0103-4901-8bf6-7fdd8ff680e7 button.colab-df-convert');\n",
              "      buttonEl.style.display =\n",
              "        google.colab.kernel.accessAllowed ? 'block' : 'none';\n",
              "\n",
              "      async function convertToInteractive(key) {\n",
              "        const element = document.querySelector('#df-86576e66-0103-4901-8bf6-7fdd8ff680e7');\n",
              "        const dataTable =\n",
              "          await google.colab.kernel.invokeFunction('convertToInteractive',\n",
              "                                                    [key], {});\n",
              "        if (!dataTable) return;\n",
              "\n",
              "        const docLinkHtml = 'Like what you see? Visit the ' +\n",
              "          '<a target=\"_blank\" href=https://colab.research.google.com/notebooks/data_table.ipynb>data table notebook</a>'\n",
              "          + ' to learn more about interactive tables.';\n",
              "        element.innerHTML = '';\n",
              "        dataTable['output_type'] = 'display_data';\n",
              "        await google.colab.output.renderOutput(dataTable, element);\n",
              "        const docLink = document.createElement('div');\n",
              "        docLink.innerHTML = docLinkHtml;\n",
              "        element.appendChild(docLink);\n",
              "      }\n",
              "    </script>\n",
              "  </div>\n",
              "\n",
              "\n",
              "<div id=\"df-05a6963f-8cea-4111-872f-dca4ee69b27b\">\n",
              "  <button class=\"colab-df-quickchart\" onclick=\"quickchart('df-05a6963f-8cea-4111-872f-dca4ee69b27b')\"\n",
              "            title=\"Suggest charts\"\n",
              "            style=\"display:none;\">\n",
              "\n",
              "<svg xmlns=\"http://www.w3.org/2000/svg\" height=\"24px\"viewBox=\"0 0 24 24\"\n",
              "     width=\"24px\">\n",
              "    <g>\n",
              "        <path d=\"M19 3H5c-1.1 0-2 .9-2 2v14c0 1.1.9 2 2 2h14c1.1 0 2-.9 2-2V5c0-1.1-.9-2-2-2zM9 17H7v-7h2v7zm4 0h-2V7h2v10zm4 0h-2v-4h2v4z\"/>\n",
              "    </g>\n",
              "</svg>\n",
              "  </button>\n",
              "\n",
              "<style>\n",
              "  .colab-df-quickchart {\n",
              "      --bg-color: #E8F0FE;\n",
              "      --fill-color: #1967D2;\n",
              "      --hover-bg-color: #E2EBFA;\n",
              "      --hover-fill-color: #174EA6;\n",
              "      --disabled-fill-color: #AAA;\n",
              "      --disabled-bg-color: #DDD;\n",
              "  }\n",
              "\n",
              "  [theme=dark] .colab-df-quickchart {\n",
              "      --bg-color: #3B4455;\n",
              "      --fill-color: #D2E3FC;\n",
              "      --hover-bg-color: #434B5C;\n",
              "      --hover-fill-color: #FFFFFF;\n",
              "      --disabled-bg-color: #3B4455;\n",
              "      --disabled-fill-color: #666;\n",
              "  }\n",
              "\n",
              "  .colab-df-quickchart {\n",
              "    background-color: var(--bg-color);\n",
              "    border: none;\n",
              "    border-radius: 50%;\n",
              "    cursor: pointer;\n",
              "    display: none;\n",
              "    fill: var(--fill-color);\n",
              "    height: 32px;\n",
              "    padding: 0;\n",
              "    width: 32px;\n",
              "  }\n",
              "\n",
              "  .colab-df-quickchart:hover {\n",
              "    background-color: var(--hover-bg-color);\n",
              "    box-shadow: 0 1px 2px rgba(60, 64, 67, 0.3), 0 1px 3px 1px rgba(60, 64, 67, 0.15);\n",
              "    fill: var(--button-hover-fill-color);\n",
              "  }\n",
              "\n",
              "  .colab-df-quickchart-complete:disabled,\n",
              "  .colab-df-quickchart-complete:disabled:hover {\n",
              "    background-color: var(--disabled-bg-color);\n",
              "    fill: var(--disabled-fill-color);\n",
              "    box-shadow: none;\n",
              "  }\n",
              "\n",
              "  .colab-df-spinner {\n",
              "    border: 2px solid var(--fill-color);\n",
              "    border-color: transparent;\n",
              "    border-bottom-color: var(--fill-color);\n",
              "    animation:\n",
              "      spin 1s steps(1) infinite;\n",
              "  }\n",
              "\n",
              "  @keyframes spin {\n",
              "    0% {\n",
              "      border-color: transparent;\n",
              "      border-bottom-color: var(--fill-color);\n",
              "      border-left-color: var(--fill-color);\n",
              "    }\n",
              "    20% {\n",
              "      border-color: transparent;\n",
              "      border-left-color: var(--fill-color);\n",
              "      border-top-color: var(--fill-color);\n",
              "    }\n",
              "    30% {\n",
              "      border-color: transparent;\n",
              "      border-left-color: var(--fill-color);\n",
              "      border-top-color: var(--fill-color);\n",
              "      border-right-color: var(--fill-color);\n",
              "    }\n",
              "    40% {\n",
              "      border-color: transparent;\n",
              "      border-right-color: var(--fill-color);\n",
              "      border-top-color: var(--fill-color);\n",
              "    }\n",
              "    60% {\n",
              "      border-color: transparent;\n",
              "      border-right-color: var(--fill-color);\n",
              "    }\n",
              "    80% {\n",
              "      border-color: transparent;\n",
              "      border-right-color: var(--fill-color);\n",
              "      border-bottom-color: var(--fill-color);\n",
              "    }\n",
              "    90% {\n",
              "      border-color: transparent;\n",
              "      border-bottom-color: var(--fill-color);\n",
              "    }\n",
              "  }\n",
              "</style>\n",
              "\n",
              "  <script>\n",
              "    async function quickchart(key) {\n",
              "      const quickchartButtonEl =\n",
              "        document.querySelector('#' + key + ' button');\n",
              "      quickchartButtonEl.disabled = true;  // To prevent multiple clicks.\n",
              "      quickchartButtonEl.classList.add('colab-df-spinner');\n",
              "      try {\n",
              "        const charts = await google.colab.kernel.invokeFunction(\n",
              "            'suggestCharts', [key], {});\n",
              "      } catch (error) {\n",
              "        console.error('Error during call to suggestCharts:', error);\n",
              "      }\n",
              "      quickchartButtonEl.classList.remove('colab-df-spinner');\n",
              "      quickchartButtonEl.classList.add('colab-df-quickchart-complete');\n",
              "    }\n",
              "    (() => {\n",
              "      let quickchartButtonEl =\n",
              "        document.querySelector('#df-05a6963f-8cea-4111-872f-dca4ee69b27b button');\n",
              "      quickchartButtonEl.style.display =\n",
              "        google.colab.kernel.accessAllowed ? 'block' : 'none';\n",
              "    })();\n",
              "  </script>\n",
              "</div>\n",
              "\n",
              "    </div>\n",
              "  </div>\n"
            ],
            "application/vnd.google.colaboratory.intrinsic+json": {
              "type": "dataframe",
              "variable_name": "train"
            }
          },
          "metadata": {},
          "execution_count": 11
        }
      ]
    },
    {
      "cell_type": "code",
      "source": [
        "orig.info()"
      ],
      "metadata": {
        "colab": {
          "base_uri": "https://localhost:8080/"
        },
        "id": "f9OxCHrE1I2l",
        "outputId": "5d30a431-532e-4f17-d5c9-390072e2e3d1"
      },
      "execution_count": null,
      "outputs": [
        {
          "output_type": "stream",
          "name": "stdout",
          "text": [
            "<class 'pandas.core.frame.DataFrame'>\n",
            "RangeIndex: 52500 entries, 0 to 52499\n",
            "Data columns (total 11 columns):\n",
            " #   Column                       Non-Null Count  Dtype  \n",
            "---  ------                       --------------  -----  \n",
            " 0   Podcast_Name                 52500 non-null  object \n",
            " 1   Episode_Title                52500 non-null  object \n",
            " 2   Episode_Length_minutes       47254 non-null  float64\n",
            " 3   Genre                        52500 non-null  object \n",
            " 4   Host_Popularity_percentage   52500 non-null  float64\n",
            " 5   Publication_Day              52500 non-null  object \n",
            " 6   Publication_Time             52500 non-null  object \n",
            " 7   Guest_Popularity_percentage  47242 non-null  float64\n",
            " 8   Number_of_Ads                52500 non-null  int64  \n",
            " 9   Episode_Sentiment            52500 non-null  object \n",
            " 10  Listening_Time_minutes       47105 non-null  float64\n",
            "dtypes: float64(4), int64(1), object(6)\n",
            "memory usage: 4.4+ MB\n"
          ]
        }
      ]
    },
    {
      "cell_type": "code",
      "source": [
        "test.info()"
      ],
      "metadata": {
        "colab": {
          "base_uri": "https://localhost:8080/"
        },
        "id": "alatLkMR4mrF",
        "outputId": "3412bf7d-feaf-4a82-c822-9dbf22451178"
      },
      "execution_count": null,
      "outputs": [
        {
          "output_type": "stream",
          "name": "stdout",
          "text": [
            "<class 'pandas.core.frame.DataFrame'>\n",
            "RangeIndex: 250000 entries, 0 to 249999\n",
            "Data columns (total 11 columns):\n",
            " #   Column                       Non-Null Count   Dtype  \n",
            "---  ------                       --------------   -----  \n",
            " 0   id                           250000 non-null  int64  \n",
            " 1   Podcast_Name                 250000 non-null  object \n",
            " 2   Episode_Title                250000 non-null  object \n",
            " 3   Episode_Length_minutes       0 non-null       float64\n",
            " 4   Genre                        250000 non-null  object \n",
            " 5   Host_Popularity_percentage   250000 non-null  float64\n",
            " 6   Publication_Day              250000 non-null  object \n",
            " 7   Publication_Time             250000 non-null  object \n",
            " 8   Guest_Popularity_percentage  201168 non-null  float64\n",
            " 9   Number_of_Ads                250000 non-null  float64\n",
            " 10  Episode_Sentiment            250000 non-null  object \n",
            "dtypes: float64(4), int64(1), object(6)\n",
            "memory usage: 21.0+ MB\n"
          ]
        }
      ]
    },
    {
      "cell_type": "code",
      "source": [
        "test.head()"
      ],
      "metadata": {
        "colab": {
          "base_uri": "https://localhost:8080/",
          "height": 244
        },
        "id": "iOZyxymJ4x8Q",
        "outputId": "6a084308-c187-474d-90d3-e3fd974811eb"
      },
      "execution_count": null,
      "outputs": [
        {
          "output_type": "execute_result",
          "data": {
            "text/plain": [
              "       id         Podcast_Name Episode_Title  Episode_Length_minutes  \\\n",
              "0  750000  Educational Nuggets    Episode 73                     NaN   \n",
              "1  750001          Sound Waves    Episode 23                     NaN   \n",
              "2  750002        Joke Junction    Episode 11                     NaN   \n",
              "3  750003        Comedy Corner    Episode 73                     NaN   \n",
              "4  750004         Life Lessons    Episode 50                     NaN   \n",
              "\n",
              "       Genre  Host_Popularity_percentage Publication_Day Publication_Time  \\\n",
              "0  Education                       38.11        Saturday          Evening   \n",
              "1      Music                       71.29          Sunday          Morning   \n",
              "2     Comedy                       67.89          Friday          Evening   \n",
              "3     Comedy                       23.40          Sunday          Morning   \n",
              "4  Lifestyle                       58.10       Wednesday          Morning   \n",
              "\n",
              "   Guest_Popularity_percentage  Number_of_Ads Episode_Sentiment  \n",
              "0                        53.33            1.0           Neutral  \n",
              "1                          NaN            0.0           Neutral  \n",
              "2                        97.51            0.0          Positive  \n",
              "3                        51.75            2.0          Positive  \n",
              "4                        11.30            2.0           Neutral  "
            ],
            "text/html": [
              "\n",
              "  <div id=\"df-c9c8b906-e502-40ff-b69b-ae935d882352\" class=\"colab-df-container\">\n",
              "    <div>\n",
              "<style scoped>\n",
              "    .dataframe tbody tr th:only-of-type {\n",
              "        vertical-align: middle;\n",
              "    }\n",
              "\n",
              "    .dataframe tbody tr th {\n",
              "        vertical-align: top;\n",
              "    }\n",
              "\n",
              "    .dataframe thead th {\n",
              "        text-align: right;\n",
              "    }\n",
              "</style>\n",
              "<table border=\"1\" class=\"dataframe\">\n",
              "  <thead>\n",
              "    <tr style=\"text-align: right;\">\n",
              "      <th></th>\n",
              "      <th>id</th>\n",
              "      <th>Podcast_Name</th>\n",
              "      <th>Episode_Title</th>\n",
              "      <th>Episode_Length_minutes</th>\n",
              "      <th>Genre</th>\n",
              "      <th>Host_Popularity_percentage</th>\n",
              "      <th>Publication_Day</th>\n",
              "      <th>Publication_Time</th>\n",
              "      <th>Guest_Popularity_percentage</th>\n",
              "      <th>Number_of_Ads</th>\n",
              "      <th>Episode_Sentiment</th>\n",
              "    </tr>\n",
              "  </thead>\n",
              "  <tbody>\n",
              "    <tr>\n",
              "      <th>0</th>\n",
              "      <td>750000</td>\n",
              "      <td>Educational Nuggets</td>\n",
              "      <td>Episode 73</td>\n",
              "      <td>NaN</td>\n",
              "      <td>Education</td>\n",
              "      <td>38.11</td>\n",
              "      <td>Saturday</td>\n",
              "      <td>Evening</td>\n",
              "      <td>53.33</td>\n",
              "      <td>1.0</td>\n",
              "      <td>Neutral</td>\n",
              "    </tr>\n",
              "    <tr>\n",
              "      <th>1</th>\n",
              "      <td>750001</td>\n",
              "      <td>Sound Waves</td>\n",
              "      <td>Episode 23</td>\n",
              "      <td>NaN</td>\n",
              "      <td>Music</td>\n",
              "      <td>71.29</td>\n",
              "      <td>Sunday</td>\n",
              "      <td>Morning</td>\n",
              "      <td>NaN</td>\n",
              "      <td>0.0</td>\n",
              "      <td>Neutral</td>\n",
              "    </tr>\n",
              "    <tr>\n",
              "      <th>2</th>\n",
              "      <td>750002</td>\n",
              "      <td>Joke Junction</td>\n",
              "      <td>Episode 11</td>\n",
              "      <td>NaN</td>\n",
              "      <td>Comedy</td>\n",
              "      <td>67.89</td>\n",
              "      <td>Friday</td>\n",
              "      <td>Evening</td>\n",
              "      <td>97.51</td>\n",
              "      <td>0.0</td>\n",
              "      <td>Positive</td>\n",
              "    </tr>\n",
              "    <tr>\n",
              "      <th>3</th>\n",
              "      <td>750003</td>\n",
              "      <td>Comedy Corner</td>\n",
              "      <td>Episode 73</td>\n",
              "      <td>NaN</td>\n",
              "      <td>Comedy</td>\n",
              "      <td>23.40</td>\n",
              "      <td>Sunday</td>\n",
              "      <td>Morning</td>\n",
              "      <td>51.75</td>\n",
              "      <td>2.0</td>\n",
              "      <td>Positive</td>\n",
              "    </tr>\n",
              "    <tr>\n",
              "      <th>4</th>\n",
              "      <td>750004</td>\n",
              "      <td>Life Lessons</td>\n",
              "      <td>Episode 50</td>\n",
              "      <td>NaN</td>\n",
              "      <td>Lifestyle</td>\n",
              "      <td>58.10</td>\n",
              "      <td>Wednesday</td>\n",
              "      <td>Morning</td>\n",
              "      <td>11.30</td>\n",
              "      <td>2.0</td>\n",
              "      <td>Neutral</td>\n",
              "    </tr>\n",
              "  </tbody>\n",
              "</table>\n",
              "</div>\n",
              "    <div class=\"colab-df-buttons\">\n",
              "\n",
              "  <div class=\"colab-df-container\">\n",
              "    <button class=\"colab-df-convert\" onclick=\"convertToInteractive('df-c9c8b906-e502-40ff-b69b-ae935d882352')\"\n",
              "            title=\"Convert this dataframe to an interactive table.\"\n",
              "            style=\"display:none;\">\n",
              "\n",
              "  <svg xmlns=\"http://www.w3.org/2000/svg\" height=\"24px\" viewBox=\"0 -960 960 960\">\n",
              "    <path d=\"M120-120v-720h720v720H120Zm60-500h600v-160H180v160Zm220 220h160v-160H400v160Zm0 220h160v-160H400v160ZM180-400h160v-160H180v160Zm440 0h160v-160H620v160ZM180-180h160v-160H180v160Zm440 0h160v-160H620v160Z\"/>\n",
              "  </svg>\n",
              "    </button>\n",
              "\n",
              "  <style>\n",
              "    .colab-df-container {\n",
              "      display:flex;\n",
              "      gap: 12px;\n",
              "    }\n",
              "\n",
              "    .colab-df-convert {\n",
              "      background-color: #E8F0FE;\n",
              "      border: none;\n",
              "      border-radius: 50%;\n",
              "      cursor: pointer;\n",
              "      display: none;\n",
              "      fill: #1967D2;\n",
              "      height: 32px;\n",
              "      padding: 0 0 0 0;\n",
              "      width: 32px;\n",
              "    }\n",
              "\n",
              "    .colab-df-convert:hover {\n",
              "      background-color: #E2EBFA;\n",
              "      box-shadow: 0px 1px 2px rgba(60, 64, 67, 0.3), 0px 1px 3px 1px rgba(60, 64, 67, 0.15);\n",
              "      fill: #174EA6;\n",
              "    }\n",
              "\n",
              "    .colab-df-buttons div {\n",
              "      margin-bottom: 4px;\n",
              "    }\n",
              "\n",
              "    [theme=dark] .colab-df-convert {\n",
              "      background-color: #3B4455;\n",
              "      fill: #D2E3FC;\n",
              "    }\n",
              "\n",
              "    [theme=dark] .colab-df-convert:hover {\n",
              "      background-color: #434B5C;\n",
              "      box-shadow: 0px 1px 3px 1px rgba(0, 0, 0, 0.15);\n",
              "      filter: drop-shadow(0px 1px 2px rgba(0, 0, 0, 0.3));\n",
              "      fill: #FFFFFF;\n",
              "    }\n",
              "  </style>\n",
              "\n",
              "    <script>\n",
              "      const buttonEl =\n",
              "        document.querySelector('#df-c9c8b906-e502-40ff-b69b-ae935d882352 button.colab-df-convert');\n",
              "      buttonEl.style.display =\n",
              "        google.colab.kernel.accessAllowed ? 'block' : 'none';\n",
              "\n",
              "      async function convertToInteractive(key) {\n",
              "        const element = document.querySelector('#df-c9c8b906-e502-40ff-b69b-ae935d882352');\n",
              "        const dataTable =\n",
              "          await google.colab.kernel.invokeFunction('convertToInteractive',\n",
              "                                                    [key], {});\n",
              "        if (!dataTable) return;\n",
              "\n",
              "        const docLinkHtml = 'Like what you see? Visit the ' +\n",
              "          '<a target=\"_blank\" href=https://colab.research.google.com/notebooks/data_table.ipynb>data table notebook</a>'\n",
              "          + ' to learn more about interactive tables.';\n",
              "        element.innerHTML = '';\n",
              "        dataTable['output_type'] = 'display_data';\n",
              "        await google.colab.output.renderOutput(dataTable, element);\n",
              "        const docLink = document.createElement('div');\n",
              "        docLink.innerHTML = docLinkHtml;\n",
              "        element.appendChild(docLink);\n",
              "      }\n",
              "    </script>\n",
              "  </div>\n",
              "\n",
              "\n",
              "<div id=\"df-3be5de1c-4a72-48d0-be69-b74a2b1cfdbc\">\n",
              "  <button class=\"colab-df-quickchart\" onclick=\"quickchart('df-3be5de1c-4a72-48d0-be69-b74a2b1cfdbc')\"\n",
              "            title=\"Suggest charts\"\n",
              "            style=\"display:none;\">\n",
              "\n",
              "<svg xmlns=\"http://www.w3.org/2000/svg\" height=\"24px\"viewBox=\"0 0 24 24\"\n",
              "     width=\"24px\">\n",
              "    <g>\n",
              "        <path d=\"M19 3H5c-1.1 0-2 .9-2 2v14c0 1.1.9 2 2 2h14c1.1 0 2-.9 2-2V5c0-1.1-.9-2-2-2zM9 17H7v-7h2v7zm4 0h-2V7h2v10zm4 0h-2v-4h2v4z\"/>\n",
              "    </g>\n",
              "</svg>\n",
              "  </button>\n",
              "\n",
              "<style>\n",
              "  .colab-df-quickchart {\n",
              "      --bg-color: #E8F0FE;\n",
              "      --fill-color: #1967D2;\n",
              "      --hover-bg-color: #E2EBFA;\n",
              "      --hover-fill-color: #174EA6;\n",
              "      --disabled-fill-color: #AAA;\n",
              "      --disabled-bg-color: #DDD;\n",
              "  }\n",
              "\n",
              "  [theme=dark] .colab-df-quickchart {\n",
              "      --bg-color: #3B4455;\n",
              "      --fill-color: #D2E3FC;\n",
              "      --hover-bg-color: #434B5C;\n",
              "      --hover-fill-color: #FFFFFF;\n",
              "      --disabled-bg-color: #3B4455;\n",
              "      --disabled-fill-color: #666;\n",
              "  }\n",
              "\n",
              "  .colab-df-quickchart {\n",
              "    background-color: var(--bg-color);\n",
              "    border: none;\n",
              "    border-radius: 50%;\n",
              "    cursor: pointer;\n",
              "    display: none;\n",
              "    fill: var(--fill-color);\n",
              "    height: 32px;\n",
              "    padding: 0;\n",
              "    width: 32px;\n",
              "  }\n",
              "\n",
              "  .colab-df-quickchart:hover {\n",
              "    background-color: var(--hover-bg-color);\n",
              "    box-shadow: 0 1px 2px rgba(60, 64, 67, 0.3), 0 1px 3px 1px rgba(60, 64, 67, 0.15);\n",
              "    fill: var(--button-hover-fill-color);\n",
              "  }\n",
              "\n",
              "  .colab-df-quickchart-complete:disabled,\n",
              "  .colab-df-quickchart-complete:disabled:hover {\n",
              "    background-color: var(--disabled-bg-color);\n",
              "    fill: var(--disabled-fill-color);\n",
              "    box-shadow: none;\n",
              "  }\n",
              "\n",
              "  .colab-df-spinner {\n",
              "    border: 2px solid var(--fill-color);\n",
              "    border-color: transparent;\n",
              "    border-bottom-color: var(--fill-color);\n",
              "    animation:\n",
              "      spin 1s steps(1) infinite;\n",
              "  }\n",
              "\n",
              "  @keyframes spin {\n",
              "    0% {\n",
              "      border-color: transparent;\n",
              "      border-bottom-color: var(--fill-color);\n",
              "      border-left-color: var(--fill-color);\n",
              "    }\n",
              "    20% {\n",
              "      border-color: transparent;\n",
              "      border-left-color: var(--fill-color);\n",
              "      border-top-color: var(--fill-color);\n",
              "    }\n",
              "    30% {\n",
              "      border-color: transparent;\n",
              "      border-left-color: var(--fill-color);\n",
              "      border-top-color: var(--fill-color);\n",
              "      border-right-color: var(--fill-color);\n",
              "    }\n",
              "    40% {\n",
              "      border-color: transparent;\n",
              "      border-right-color: var(--fill-color);\n",
              "      border-top-color: var(--fill-color);\n",
              "    }\n",
              "    60% {\n",
              "      border-color: transparent;\n",
              "      border-right-color: var(--fill-color);\n",
              "    }\n",
              "    80% {\n",
              "      border-color: transparent;\n",
              "      border-right-color: var(--fill-color);\n",
              "      border-bottom-color: var(--fill-color);\n",
              "    }\n",
              "    90% {\n",
              "      border-color: transparent;\n",
              "      border-bottom-color: var(--fill-color);\n",
              "    }\n",
              "  }\n",
              "</style>\n",
              "\n",
              "  <script>\n",
              "    async function quickchart(key) {\n",
              "      const quickchartButtonEl =\n",
              "        document.querySelector('#' + key + ' button');\n",
              "      quickchartButtonEl.disabled = true;  // To prevent multiple clicks.\n",
              "      quickchartButtonEl.classList.add('colab-df-spinner');\n",
              "      try {\n",
              "        const charts = await google.colab.kernel.invokeFunction(\n",
              "            'suggestCharts', [key], {});\n",
              "      } catch (error) {\n",
              "        console.error('Error during call to suggestCharts:', error);\n",
              "      }\n",
              "      quickchartButtonEl.classList.remove('colab-df-spinner');\n",
              "      quickchartButtonEl.classList.add('colab-df-quickchart-complete');\n",
              "    }\n",
              "    (() => {\n",
              "      let quickchartButtonEl =\n",
              "        document.querySelector('#df-3be5de1c-4a72-48d0-be69-b74a2b1cfdbc button');\n",
              "      quickchartButtonEl.style.display =\n",
              "        google.colab.kernel.accessAllowed ? 'block' : 'none';\n",
              "    })();\n",
              "  </script>\n",
              "</div>\n",
              "\n",
              "    </div>\n",
              "  </div>\n"
            ],
            "application/vnd.google.colaboratory.intrinsic+json": {
              "type": "dataframe",
              "variable_name": "test"
            }
          },
          "metadata": {},
          "execution_count": 27
        }
      ]
    },
    {
      "cell_type": "markdown",
      "source": [
        "# Cleaning & Imputing missing values"
      ],
      "metadata": {
        "id": "8JiGg-JjA9FK"
      }
    },
    {
      "cell_type": "markdown",
      "source": [
        "There are 2 columns with missing values: Episode length in minutes and guest popularity percentage"
      ],
      "metadata": {
        "id": "qSTiO_Pb4j0E"
      }
    },
    {
      "cell_type": "code",
      "source": [
        "train_ads_median = train[train.Number_of_Ads.notna()].Number_of_Ads.median()\n",
        "train.Number_of_Ads = train.Number_of_Ads.fillna(train_ads_median)\n",
        "\n",
        "train_median = train[train.Episode_Length_minutes.notna()].Episode_Length_minutes.median()\n",
        "test_median = test[test.Episode_Length_minutes.notna()].Episode_Length_minutes.median()\n",
        "orig_median = orig[orig.Episode_Length_minutes.notna()].Episode_Length_minutes.median()\n",
        "\n",
        "train.Episode_Length_minutes = train.Episode_Length_minutes.fillna(train_median)\n",
        "test.Episode_Length_minutes =  test.Episode_Length_minutes.fillna(test_median)\n",
        "orig.Episode_Length_minutes = orig.Episode_Length_minutes.fillna(orig_median)"
      ],
      "metadata": {
        "id": "QcoXH6bJ3FTq"
      },
      "execution_count": 11,
      "outputs": []
    },
    {
      "cell_type": "code",
      "source": [
        "train_median = train[train.Guest_Popularity_percentage.notna()].Guest_Popularity_percentage.median()\n",
        "test_median = test[test.Guest_Popularity_percentage.notna()].Guest_Popularity_percentage.median()\n",
        "orig_median = orig[orig.Guest_Popularity_percentage.notna()].Guest_Popularity_percentage.median()\n",
        "\n",
        "train.Guest_Popularity_percentage = train.Guest_Popularity_percentage.fillna(train_median)\n",
        "test.Guest_Popularity_percentage =  test.Guest_Popularity_percentage.fillna(test_median)\n",
        "orig.Guest_Popularity_percentage = orig.Guest_Popularity_percentage.fillna(orig_median)"
      ],
      "metadata": {
        "id": "T1XQn1tNCYtn"
      },
      "execution_count": 12,
      "outputs": []
    },
    {
      "cell_type": "code",
      "source": [
        "for col in categorical_features:\n",
        "  train[col] = train[col].astype('category')\n",
        "  test[col] = test[col].astype('category')\n",
        "  orig[col] = orig[col].astype('category')"
      ],
      "metadata": {
        "id": "gn8DexRHNKlO"
      },
      "execution_count": 13,
      "outputs": []
    },
    {
      "cell_type": "markdown",
      "source": [
        "# Encoding categorical features"
      ],
      "metadata": {
        "id": "NgYuQuY3ixV1"
      }
    },
    {
      "cell_type": "code",
      "source": [
        "day_map = {'Monday': 1, 'Tuesday': 2, 'Wednesday': 3, 'Thursday': 4, 'Friday': 5, 'Saturday': 6, 'Sunday': 7}\n",
        "train['Publication_Day_num'] = train.Publication_Day.map(day_map)\n",
        "test['Publication_Day_num'] = test.Publication_Day.map(day_map)\n",
        "orig['Publication_Day_num'] = orig.Publication_Day.map(day_map)"
      ],
      "metadata": {
        "id": "M71UyMfCCyjI"
      },
      "execution_count": 14,
      "outputs": []
    },
    {
      "cell_type": "code",
      "source": [
        "print(train.Publication_Time.unique())"
      ],
      "metadata": {
        "colab": {
          "base_uri": "https://localhost:8080/"
        },
        "id": "nZE6EsWmE2dv",
        "outputId": "6f1c8f9e-b6b0-4080-c07c-91d824815cb1"
      },
      "execution_count": null,
      "outputs": [
        {
          "output_type": "stream",
          "name": "stdout",
          "text": [
            "['Night' 'Afternoon' 'Evening' 'Morning']\n"
          ]
        }
      ]
    },
    {
      "cell_type": "code",
      "source": [
        "time_map = {'Night': 0, 'Morning': 1, 'Afternoon': 2, 'Evening': 3}\n",
        "\n",
        "train['Publication_Time_num'] = train.Publication_Time.map(time_map)\n",
        "test['Publication_Time_num'] = test.Publication_Time.map(time_map)\n",
        "orig['Publication_Time_num'] = orig.Publication_Time.map(time_map)"
      ],
      "metadata": {
        "id": "_FkylLBcE89e"
      },
      "execution_count": 15,
      "outputs": []
    },
    {
      "cell_type": "code",
      "source": [
        "def extract_episode_number(title):\n",
        "  epi_num = title.split(\" \")[-1]\n",
        "  return int(epi_num)\n",
        "\n",
        "train['Episode_n'] = train.Episode_Title.apply(extract_episode_number)\n",
        "test['Episode_n'] = test.Episode_Title.apply(extract_episode_number)\n",
        "orig['Episode_n'] = orig.Episode_Title.apply(extract_episode_number)"
      ],
      "metadata": {
        "id": "MGQCT5N4uXxo"
      },
      "execution_count": 16,
      "outputs": []
    },
    {
      "cell_type": "code",
      "source": [
        "import cuml\n",
        "from cuml.preprocessing import TargetEncoder"
      ],
      "metadata": {
        "id": "TRRM9MbMGEsM"
      },
      "execution_count": 17,
      "outputs": []
    },
    {
      "cell_type": "code",
      "source": [
        "print(train.Genre.unique())"
      ],
      "metadata": {
        "colab": {
          "base_uri": "https://localhost:8080/"
        },
        "id": "gF_5ufJiFEnU",
        "outputId": "9d1a1afe-c1f9-4443-f50d-5063d4d3a2ce"
      },
      "execution_count": null,
      "outputs": [
        {
          "output_type": "stream",
          "name": "stdout",
          "text": [
            "['True Crime' 'Comedy' 'Education' 'Technology' 'Health' 'News' 'Music'\n",
            " 'Sports' 'Business' 'Lifestyle']\n"
          ]
        }
      ]
    },
    {
      "cell_type": "code",
      "source": [
        "print(train.Episode_Sentiment.unique())"
      ],
      "metadata": {
        "colab": {
          "base_uri": "https://localhost:8080/"
        },
        "id": "BD9K63yBtOMB",
        "outputId": "f44ef4a0-5d4c-4cb0-f89f-bc3871236b6b"
      },
      "execution_count": null,
      "outputs": [
        {
          "output_type": "stream",
          "name": "stdout",
          "text": [
            "['Positive' 'Negative' 'Neutral']\n"
          ]
        }
      ]
    },
    {
      "cell_type": "code",
      "source": [
        "sentiment_map = {'Negative': -1, 'Neutral': 0, 'Positive': 1}\n",
        "\n",
        "train['Episode_Sentiment_num'] = train.Episode_Sentiment.map(sentiment_map)\n",
        "test['Episode_Sentiment_num'] = test.Episode_Sentiment.map(sentiment_map)\n",
        "orig['Episode_Sentiment_num'] = orig.Episode_Sentiment.map(sentiment_map)"
      ],
      "metadata": {
        "id": "LA5EmVzHtYjS"
      },
      "execution_count": 18,
      "outputs": []
    },
    {
      "cell_type": "code",
      "source": [
        "print(train.Podcast_Name.unique())"
      ],
      "metadata": {
        "colab": {
          "base_uri": "https://localhost:8080/"
        },
        "id": "5k4LEMNDtmP0",
        "outputId": "807449b2-b37f-45f0-a281-9a9f7f3394ca"
      },
      "execution_count": null,
      "outputs": [
        {
          "output_type": "stream",
          "name": "stdout",
          "text": [
            "['Mystery Matters' 'Joke Junction' 'Study Sessions' 'Digital Digest'\n",
            " 'Mind & Body' 'Fitness First' 'Criminal Minds' 'News Roundup'\n",
            " 'Daily Digest' 'Music Matters' 'Sports Central' 'Melody Mix' 'Game Day'\n",
            " 'Gadget Geek' 'Global News' 'Tech Talks' 'Sport Spot' 'Funny Folks'\n",
            " 'Sports Weekly' 'Business Briefs' 'Tech Trends' 'Innovators'\n",
            " 'Health Hour' 'Comedy Corner' 'Sound Waves' 'Brain Boost'\n",
            " \"Athlete's Arena\" 'Wellness Wave' 'Style Guide' 'World Watch' 'Humor Hub'\n",
            " 'Money Matters' 'Healthy Living' 'Home & Living' 'Educational Nuggets'\n",
            " 'Market Masters' 'Learning Lab' 'Lifestyle Lounge' 'Crime Chronicles'\n",
            " 'Detective Diaries' 'Life Lessons' 'Current Affairs' 'Finance Focus'\n",
            " 'Laugh Line' 'True Crime Stories' 'Business Insights' 'Fashion Forward'\n",
            " 'Tune Time']\n"
          ]
        }
      ]
    },
    {
      "cell_type": "code",
      "source": [
        "TE = TargetEncoder(n_folds=25, smooth=20, split_method='random', stat='mean')\n",
        "train['Name_n'] = TE.fit_transform(train.Podcast_Name, train[Target])\n",
        "test['Name_n'] = TE.transform(test.Podcast_Name)\n",
        "orig['Name_n'] = TE.transform(orig.Podcast_Name)"
      ],
      "metadata": {
        "id": "QyN3yIDstvlZ"
      },
      "execution_count": 19,
      "outputs": []
    },
    {
      "cell_type": "code",
      "source": [
        "TE = TargetEncoder(n_folds=25, smooth=20, split_method='random', stat='mean')\n",
        "train['Genre_n'] = TE.fit_transform(train.Genre, train[Target])\n",
        "test['Genre_n'] = TE.transform(test.Genre)\n",
        "orig['Genre_n'] = TE.transform(orig.Genre)"
      ],
      "metadata": {
        "id": "1KoLgYZuFfrX"
      },
      "execution_count": 20,
      "outputs": []
    },
    {
      "cell_type": "code",
      "source": [
        "print(train.columns)"
      ],
      "metadata": {
        "colab": {
          "base_uri": "https://localhost:8080/"
        },
        "id": "d_zaAg6SvgcA",
        "outputId": "8b834d18-1787-4ab5-d16b-d0bd729a43e9"
      },
      "execution_count": 38,
      "outputs": [
        {
          "output_type": "stream",
          "name": "stdout",
          "text": [
            "Index(['id', 'Podcast_Name', 'Episode_Title', 'Episode_Length_minutes',\n",
            "       'Genre', 'Host_Popularity_percentage', 'Publication_Day',\n",
            "       'Publication_Time', 'Guest_Popularity_percentage', 'Number_of_Ads',\n",
            "       'Episode_Sentiment', 'Listening_Time_minutes', 'Publication_Day_num',\n",
            "       'Publication_Time_num', 'Episode_n', 'Episode_Sentiment_num', 'Name_n',\n",
            "       'Genre_n'],\n",
            "      dtype='object')\n"
          ]
        }
      ]
    },
    {
      "cell_type": "code",
      "source": [
        "print(numerical_features)\n",
        "numerical_features.extend(['Genre_n', 'Name_n', 'Episode_n', 'Publication_Day_num', 'Publication_Time_num', 'Episode_Sentiment_num'])"
      ],
      "metadata": {
        "colab": {
          "base_uri": "https://localhost:8080/"
        },
        "id": "Cy_6obtwv896",
        "outputId": "cc29666e-e0ef-4f9d-cb21-e1b7eeea56c2"
      },
      "execution_count": 60,
      "outputs": [
        {
          "output_type": "stream",
          "name": "stdout",
          "text": [
            "['Episode_Length_minutes', 'Host_Popularity_percentage', 'Guest_Popularity_percentage', 'Number_of_Ads']\n"
          ]
        }
      ]
    },
    {
      "cell_type": "code",
      "source": [
        "print(numerical_features)"
      ],
      "metadata": {
        "colab": {
          "base_uri": "https://localhost:8080/"
        },
        "id": "diQIy0kaD48S",
        "outputId": "a3c60299-c0c4-4073-e39e-0a534d716e84"
      },
      "execution_count": 61,
      "outputs": [
        {
          "output_type": "stream",
          "name": "stdout",
          "text": [
            "['Episode_Length_minutes', 'Host_Popularity_percentage', 'Guest_Popularity_percentage', 'Number_of_Ads', 'Genre_n', 'Name_n', 'Episode_n', 'Publication_Day_num', 'Publication_Time_num', 'Episode_Sentiment_num']\n"
          ]
        }
      ]
    },
    {
      "cell_type": "markdown",
      "source": [
        "# XGBoost\n",
        "\n"
      ],
      "metadata": {
        "id": "6fHomhzVC1_J"
      }
    },
    {
      "cell_type": "code",
      "source": [
        "import xgboost as xgb\n",
        "\n",
        "X = train.drop(columns=[Target, 'id'])\n",
        "y = train[Target]\n",
        "\n",
        "def objective(trial):\n",
        "    params = {\n",
        "        \"objective\": \"reg:squarederror\",\n",
        "        \"eval_metric\": \"rmse\",\n",
        "        \"device\": \"cuda\",\n",
        "        \"tree_method\": \"hist\",\n",
        "        \"learning_rate\": trial.suggest_float(\"learning_rate\", 0.01, 0.3, log=True),\n",
        "        \"max_depth\": trial.suggest_int(\"max_depth\", 4, 12),\n",
        "        \"min_child_weight\": trial.suggest_int(\"min_child_weight\", 1, 10),\n",
        "        \"gamma\": trial.suggest_float(\"gamma\", 0, 5),\n",
        "        \"subsample\": trial.suggest_float(\"subsample\", 0.5, 1.0),\n",
        "        \"colsample_bytree\": trial.suggest_float(\"colsample_bytree\", 0.5, 1.0),\n",
        "        \"lambda\": trial.suggest_float(\"lambda\", 1e-3, 10.0, log=True),\n",
        "        \"alpha\": trial.suggest_float(\"alpha\", 1e-3, 10.0, log=True),\n",
        "    }\n",
        "\n",
        "    kf = KFold(n_splits=5, shuffle=True, random_state=42)\n",
        "    val_scores = []\n",
        "\n",
        "    for train_idx, valid_idx in kf.split(X):\n",
        "        X_train, X_valid = X.iloc[train_idx], X.iloc[valid_idx]\n",
        "        y_train, y_valid = y.iloc[train_idx], y.iloc[valid_idx]\n",
        "\n",
        "        dtrain = xgb.DMatrix(X_train, label=y_train, enable_categorical=True)\n",
        "        dvalid = xgb.DMatrix(X_valid, label=y_valid, enable_categorical=True)\n",
        "\n",
        "        model = xgb.train(\n",
        "            params,\n",
        "            dtrain,\n",
        "            num_boost_round=1000,\n",
        "            evals=[(dvalid, \"eval\")],\n",
        "            early_stopping_rounds=50,\n",
        "            verbose_eval=False\n",
        "        )\n",
        "\n",
        "        preds = model.predict(dvalid)\n",
        "        score = root_mean_squared_error(y_valid, preds)  # RMSE\n",
        "        val_scores.append(score)\n",
        "\n",
        "    return np.mean(val_scores)\n",
        "\n",
        "# Run optimization\n",
        "study = optuna.create_study(direction=\"minimize\")\n",
        "study.optimize(objective, n_trials=50)"
      ],
      "metadata": {
        "id": "warUkuM_N3Me"
      },
      "execution_count": null,
      "outputs": []
    },
    {
      "cell_type": "code",
      "source": [
        "print(\"Best params:\", study.best_params)\n",
        "print(\"Best RMSE:\", study.best_value)"
      ],
      "metadata": {
        "colab": {
          "base_uri": "https://localhost:8080/"
        },
        "id": "dvTSYeD_2oFy",
        "outputId": "e1430b3a-575e-4367-f83a-d0678b3550b9"
      },
      "execution_count": 22,
      "outputs": [
        {
          "output_type": "stream",
          "name": "stdout",
          "text": [
            "Best params: {'learning_rate': 0.021504954292546015, 'max_depth': 12, 'min_child_weight': 1, 'gamma': 4.444180330716101, 'subsample': 0.9783301042033197, 'colsample_bytree': 0.6261560696207955, 'lambda': 0.0013836471098856024, 'alpha': 7.621035442622206}\n",
            "Best RMSE: 12.686377784161774\n"
          ]
        }
      ]
    },
    {
      "cell_type": "code",
      "source": [
        "# Note: when I run XGBoost again with the best study params with the same CV scheme, i get a much higher RMSE.\n",
        "# Likely happening due to difference in `num_boost_rounds`, difference in random state at some step or incorrect casting of\n",
        "# some params returned by optuna\n",
        "X = train.drop(columns=[Target, 'id'])\n",
        "y = train[Target]\n",
        "\n",
        "xgb_params = {}\n",
        "xgb_params['objective'] = \"reg:squarederror\"\n",
        "xgb_params['enable_categorical'] = True\n",
        "xgb_params['tree_method'] = 'hist'\n",
        "xgb_params['device'] = 'cuda'\n",
        "xgb_params['eval_metric'] = 'rmse'\n",
        "\n",
        "kf = KFold(n_splits=5, shuffle=True, random_state=42)\n",
        "val_scores = []\n",
        "\n",
        "for train_idx, valid_idx in kf.split(X):\n",
        "        X_train, X_valid = X.iloc[train_idx], X.iloc[valid_idx]\n",
        "        y_train, y_valid = y.iloc[train_idx], y.iloc[valid_idx]\n",
        "\n",
        "        model = xgb.XGBRegressor(**xgb_params)\n",
        "\n",
        "        model.fit(X_train, y_train)\n",
        "        preds = model.predict(X_valid)\n",
        "        score = root_mean_squared_error(y_valid, preds)\n",
        "        val_scores.append(score)\n",
        "\n",
        "print(f'Average RMSE: {np.mean(val_scores)}')"
      ],
      "metadata": {
        "colab": {
          "base_uri": "https://localhost:8080/"
        },
        "id": "pSCXESfJ2tZA",
        "outputId": "81eefbe2-b202-42b2-e339-dd9e815a2f87"
      },
      "execution_count": 38,
      "outputs": [
        {
          "output_type": "stream",
          "name": "stdout",
          "text": [
            "Average RMSE: 13.07130091833344\n"
          ]
        }
      ]
    },
    {
      "cell_type": "code",
      "source": [
        "test_preds = model.predict(test.drop(columns=['id']))\n",
        "sub[Target] = test_preds\n",
        "sub.to_csv('submission_xgb.csv', index=False)"
      ],
      "metadata": {
        "id": "TJtBWhjV9Rsc"
      },
      "execution_count": 40,
      "outputs": []
    },
    {
      "cell_type": "code",
      "source": [
        "# Interesting to note that episode title and podcast name are the more important features in XGBoost.\n",
        "# In linear regression, epiode length was the most significant. Both podcast name and episode title had low\n",
        "# significance in linear regression.\n",
        "from xgboost import plot_importance\n",
        "plot_importance(model)"
      ],
      "metadata": {
        "colab": {
          "base_uri": "https://localhost:8080/",
          "height": 490
        },
        "id": "JrxvVaF29EQi",
        "outputId": "5292bb03-0a12-47af-eaf3-79895bc4f1b8"
      },
      "execution_count": 39,
      "outputs": [
        {
          "output_type": "execute_result",
          "data": {
            "text/plain": [
              "<Axes: title={'center': 'Feature importance'}, xlabel='F score', ylabel='Features'>"
            ]
          },
          "metadata": {},
          "execution_count": 39
        },
        {
          "output_type": "display_data",
          "data": {
            "text/plain": [
              "<Figure size 640x480 with 1 Axes>"
            ],
            "image/png": "[encoded data removed]"
          },
          "metadata": {}
        }
      ]
    },
    {
      "cell_type": "code",
      "source": [
        "# Retrain the model on the full training data\n",
        "# Note: No change in LB between the CV model and model trained on full training data\n",
        "X = train.drop(columns=[Target, 'id'])\n",
        "y = train[Target]\n",
        "\n",
        "xgb_params = {}\n",
        "xgb_params['objective'] = \"reg:squarederror\"\n",
        "xgb_params['enable_categorical'] = True\n",
        "xgb_params['tree_method'] = 'hist'\n",
        "xgb_params['device'] = 'cuda'\n",
        "xgb_params['eval_metric'] = 'rmse'\n",
        "\n",
        "model = xgb.XGBRegressor(**xgb_params)\n",
        "\n",
        "model.fit(X_train, y_train)\n",
        "preds = model.predict(X_train)\n",
        "score = root_mean_squared_error(y_train, preds)\n",
        "\n",
        "print(f'Train RMSE: {score}')\n",
        "\n",
        "test_preds = model.predict(test.drop(columns=['id']))\n",
        "sub[Target] = test_preds\n",
        "sub.to_csv('submission_xgb_full.csv', index=False)"
      ],
      "metadata": {
        "colab": {
          "base_uri": "https://localhost:8080/"
        },
        "id": "aeHmH4MN9zmm",
        "outputId": "18593709-c020-4400-c457-f405deceed2d"
      },
      "execution_count": 41,
      "outputs": [
        {
          "output_type": "stream",
          "name": "stdout",
          "text": [
            "Train RMSE: 12.37873450155665\n"
          ]
        }
      ]
    },
    {
      "cell_type": "markdown",
      "source": [
        "# Other tree models"
      ],
      "metadata": {
        "id": "5w-MI-P6jHea"
      }
    },
    {
      "cell_type": "code",
      "source": [
        "from sklearn.ensemble import ExtraTreesRegressor\n",
        "from sklearn.ensemble import RandomForestRegressor\n",
        "from sklearn.ensemble import AdaBoostRegressor\n",
        "from lightgbm import LGBMRegressor\n",
        "\n",
        "\n",
        "catboost_params = {\n",
        "    \"iterations\": 1000,\n",
        "    \"depth\": 6,\n",
        "    \"l2_leaf_reg\": 3,\n",
        "    \"random_strength\": 1,\n",
        "    \"bagging_temperature\": 1,\n",
        "    \"border_count\": 128,\n",
        "    \"loss_function\": \"RMSE\",\n",
        "    \"early_stopping_rounds\": 50,\n",
        "    \"task_type\": \"GPU\",\n",
        "    \"verbose\": False,\n",
        "    'cat_features': categorical_features\n",
        "}\n",
        "\n",
        "lgbm_params = {\n",
        "    \"n_estimators\": 1000,\n",
        "    \"max_depth\": -1,\n",
        "    \"num_leaves\": 31,\n",
        "    \"min_data_in_leaf\": 20,\n",
        "    \"feature_fraction\": 0.8,\n",
        "    \"bagging_fraction\": 0.8,\n",
        "    \"bagging_freq\": 5,\n",
        "    \"lambda_l1\": 0.1,\n",
        "    \"lambda_l2\": 0.1,\n",
        "    \"metric\": \"rmse\",\n",
        "    'verbose': -1\n",
        "}\n",
        "\n",
        "adaboost_params = {\n",
        "    \"n_estimators\": 200,\n",
        "    \"loss\": \"linear\"\n",
        "}\n",
        "\n",
        "\n",
        "rf_params = {\n",
        "    \"n_estimators\": 500,\n",
        "    \"max_depth\": 10,\n",
        "    \"min_samples_split\": 10,\n",
        "    \"min_samples_leaf\": 4,\n",
        "    \"max_features\": \"sqrt\",\n",
        "    \"bootstrap\": True,\n",
        "    \"n_jobs\": -1\n",
        "}\n",
        "\n",
        "et_params = {\n",
        "    \"n_estimators\": 500,\n",
        "    \"max_depth\": 10,\n",
        "    \"min_samples_split\": 10,\n",
        "    \"min_samples_leaf\": 4,\n",
        "    \"max_features\": \"sqrt\",\n",
        "    \"bootstrap\": False,\n",
        "    \"n_jobs\": -1\n",
        "}\n",
        "\n",
        "catboost_features = train.drop(columns=[Target, 'id', 'Genre_n', 'Name_n', 'Episode_n', 'Publication_Day_num', 'Publication_Time_num', 'Episode_Sentiment_num']).columns.tolist()\n",
        "gbdt_features = numerical_features"
      ],
      "metadata": {
        "id": "xl1iHelJjMYQ"
      },
      "execution_count": 22,
      "outputs": []
    },
    {
      "cell_type": "markdown",
      "source": [
        "# Catboost"
      ],
      "metadata": {
        "id": "Xlw0RtZtGTs3"
      }
    },
    {
      "cell_type": "code",
      "source": [
        "X = train[catboost_features]\n",
        "y = train[Target]\n",
        "\n",
        "kf = KFold(n_splits=5, shuffle=True, random_state=42)\n",
        "val_scores = []\n",
        "\n",
        "for train_idx, valid_idx in kf.split(train):\n",
        "  X_train, X_valid = X.iloc[train_idx], X.iloc[valid_idx]\n",
        "  y_train, y_valid = y.iloc[train_idx], y.iloc[valid_idx]\n",
        "\n",
        "  model = CatBoostRegressor(**catboost_params)\n",
        "  model.fit(X_train, y_train)\n",
        "  preds = model.predict(X_valid)\n",
        "  score = root_mean_squared_error(y_valid, preds)\n",
        "\n",
        "  val_scores.append(score)\n",
        "\n",
        "print(f'Average Catboost RMSE: {np.mean(val_scores)}')"
      ],
      "metadata": {
        "colab": {
          "base_uri": "https://localhost:8080/"
        },
        "id": "iswK2djoNYfc",
        "outputId": "87506930-ede8-454d-adbb-9278484b2653"
      },
      "execution_count": 69,
      "outputs": [
        {
          "output_type": "stream",
          "name": "stdout",
          "text": [
            "Average Catboost RMSE: 13.09663624215653\n"
          ]
        }
      ]
    },
    {
      "cell_type": "code",
      "source": [
        "X = train[gbdt_features]\n",
        "y = train[Target]\n",
        "\n",
        "models = ['LGBM', 'AdaBoost', 'RandomForest', 'ExtraTrees']\n",
        "params = [lgbm_params, adaboost_params, rf_params, et_params]\n",
        "\n",
        "for model, param in zip(models, params):\n",
        "  kf = KFold(n_splits=5, shuffle=True, random_state=42)\n",
        "  val_scores = []\n",
        "  fold = 1\n",
        "\n",
        "  for train_idx, valid_idx in kf.split(train):\n",
        "    X_train, X_valid = X.iloc[train_idx], X.iloc[valid_idx]\n",
        "    y_train, y_valid = y.iloc[train_idx], y.iloc[valid_idx]\n",
        "\n",
        "    if model == 'LGBM':\n",
        "      model = LGBMRegressor(**param)\n",
        "    elif model == 'AdaBoost':\n",
        "      model = AdaBoostRegressor(**param)\n",
        "    elif model == 'RandomForest':\n",
        "      model = RandomForestRegressor(**param)\n",
        "    elif model == 'ExtraTrees':\n",
        "      model = ExtraTreesRegressor(**param)\n",
        "\n",
        "    model.fit(X_train, y_train)\n",
        "    preds = model.predict(X_valid)\n",
        "\n",
        "    score = root_mean_squared_error(y_valid, preds)\n",
        "    print(f'{model} Fold {fold} RMSE: {score}')\n",
        "    val_scores.append(score)\n",
        "    fold += 1\n",
        "\n",
        "print(f'{model} Average RMSE: {np.mean(val_scores)}')"
      ],
      "metadata": {
        "colab": {
          "base_uri": "https://localhost:8080/"
        },
        "id": "NZgdsf51m-GK",
        "outputId": "2b32ff2a-cc97-4e8e-a162-a282be97643c"
      },
      "execution_count": 73,
      "outputs": [
        {
          "output_type": "stream",
          "name": "stdout",
          "text": [
            "LGBMRegressor(bagging_fraction=0.8, bagging_freq=5, feature_fraction=0.8,\n",
            "              lambda_l1=0.1, lambda_l2=0.1, metric='rmse', min_data_in_leaf=20,\n",
            "              n_estimators=1000, verbose=-1) Fold 1 RMSE: 12.95694219422571\n",
            "LGBMRegressor(bagging_fraction=0.8, bagging_freq=5, feature_fraction=0.8,\n",
            "              lambda_l1=0.1, lambda_l2=0.1, metric='rmse', min_data_in_leaf=20,\n",
            "              n_estimators=1000, verbose=-1) Fold 2 RMSE: 13.0035886091626\n",
            "LGBMRegressor(bagging_fraction=0.8, bagging_freq=5, feature_fraction=0.8,\n",
            "              lambda_l1=0.1, lambda_l2=0.1, metric='rmse', min_data_in_leaf=20,\n",
            "              n_estimators=1000, verbose=-1) Fold 3 RMSE: 12.997713527299977\n",
            "LGBMRegressor(bagging_fraction=0.8, bagging_freq=5, feature_fraction=0.8,\n",
            "              lambda_l1=0.1, lambda_l2=0.1, metric='rmse', min_data_in_leaf=20,\n",
            "              n_estimators=1000, verbose=-1) Fold 4 RMSE: 12.997788676004843\n",
            "LGBMRegressor(bagging_fraction=0.8, bagging_freq=5, feature_fraction=0.8,\n",
            "              lambda_l1=0.1, lambda_l2=0.1, metric='rmse', min_data_in_leaf=20,\n",
            "              n_estimators=1000, verbose=-1) Fold 5 RMSE: 12.961325371895141\n",
            "AdaBoostRegressor(n_estimators=200) Fold 1 RMSE: 13.593142649445234\n",
            "AdaBoostRegressor(n_estimators=200) Fold 2 RMSE: 13.95835160390515\n",
            "AdaBoostRegressor(n_estimators=200) Fold 3 RMSE: 13.701750988723926\n",
            "AdaBoostRegressor(n_estimators=200) Fold 4 RMSE: 13.677498116281887\n",
            "AdaBoostRegressor(n_estimators=200) Fold 5 RMSE: 13.762542633193526\n",
            "RandomForestRegressor(max_depth=10, max_features='sqrt', min_samples_leaf=4,\n",
            "                      min_samples_split=10, n_estimators=500, n_jobs=-1) Fold 1 RMSE: 13.439043963871782\n",
            "RandomForestRegressor(max_depth=10, max_features='sqrt', min_samples_leaf=4,\n",
            "                      min_samples_split=10, n_estimators=500, n_jobs=-1) Fold 2 RMSE: 13.473059726552043\n",
            "RandomForestRegressor(max_depth=10, max_features='sqrt', min_samples_leaf=4,\n",
            "                      min_samples_split=10, n_estimators=500, n_jobs=-1) Fold 3 RMSE: 13.484477463078917\n",
            "RandomForestRegressor(max_depth=10, max_features='sqrt', min_samples_leaf=4,\n",
            "                      min_samples_split=10, n_estimators=500, n_jobs=-1) Fold 4 RMSE: 13.471713201195607\n",
            "RandomForestRegressor(max_depth=10, max_features='sqrt', min_samples_leaf=4,\n",
            "                      min_samples_split=10, n_estimators=500, n_jobs=-1) Fold 5 RMSE: 13.47341815020826\n",
            "ExtraTreesRegressor(max_depth=10, max_features='sqrt', min_samples_leaf=4,\n",
            "                    min_samples_split=10, n_estimators=500, n_jobs=-1) Fold 1 RMSE: 14.192047829789432\n",
            "ExtraTreesRegressor(max_depth=10, max_features='sqrt', min_samples_leaf=4,\n",
            "                    min_samples_split=10, n_estimators=500, n_jobs=-1) Fold 2 RMSE: 15.019096498589347\n",
            "ExtraTreesRegressor(max_depth=10, max_features='sqrt', min_samples_leaf=4,\n",
            "                    min_samples_split=10, n_estimators=500, n_jobs=-1) Fold 3 RMSE: 14.878535363366137\n",
            "ExtraTreesRegressor(max_depth=10, max_features='sqrt', min_samples_leaf=4,\n",
            "                    min_samples_split=10, n_estimators=500, n_jobs=-1) Fold 4 RMSE: 14.960716909064903\n",
            "ExtraTreesRegressor(max_depth=10, max_features='sqrt', min_samples_leaf=4,\n",
            "                    min_samples_split=10, n_estimators=500, n_jobs=-1) Fold 5 RMSE: 14.852156212537666\n",
            "ExtraTreesRegressor(max_depth=10, max_features='sqrt', min_samples_leaf=4,\n",
            "                    min_samples_split=10, n_estimators=500, n_jobs=-1) Average RMSE: 14.780510562669496\n"
          ]
        }
      ]
    },
    {
      "cell_type": "code",
      "source": [
        "fold_1 = [12.95694219422571, 13.593142649445234, 13.439043963871782, 14.192047829789432]\n",
        "fold_2 = [13.0035886091626, 13.95835160390515, 13.473059726552043, 15.019096498589347]\n",
        "fold_3 = [12.997713527299977, 13.701750988723926, 13.484477463078917, 14.878535363366137]\n",
        "fold_4 = [12.997788676004843, 13.677498116281887, 13.471713201195607, 14.960716909064903]\n",
        "fold_5 = [12.961325371895141, 13.762542633193526, 13.47341815020826, 14.852156212537666]\n",
        "\n",
        "custom_palette = [\"#FF5733\", \"#33FF57\", \"#5733FF\", \"#FFFF33\"]\n",
        "\n",
        "df = pd.DataFrame(data={'Fold 1': fold_1, 'Fold 2': fold_2, 'Fold 3': fold_3, 'Fold 4': fold_4, 'Fold 5': fold_5})\n",
        "df['model'] = ['LGBM', 'AdaBoost', 'RandomForest', 'ExtraTrees']\n",
        "df = df.melt(id_vars='model', var_name='fold', value_name='RMSE')\n",
        "print(df)"
      ],
      "metadata": {
        "colab": {
          "base_uri": "https://localhost:8080/"
        },
        "id": "2SgzGOqHTvmK",
        "outputId": "53be3c19-51f9-4153-e0c6-e313519d102e"
      },
      "execution_count": 76,
      "outputs": [
        {
          "output_type": "stream",
          "name": "stdout",
          "text": [
            "           model    fold       RMSE\n",
            "0           LGBM  Fold 1  12.956942\n",
            "1       AdaBoost  Fold 1  13.593143\n",
            "2   RandomForest  Fold 1  13.439044\n",
            "3     ExtraTrees  Fold 1  14.192048\n",
            "4           LGBM  Fold 2  13.003589\n",
            "5       AdaBoost  Fold 2  13.958352\n",
            "6   RandomForest  Fold 2  13.473060\n",
            "7     ExtraTrees  Fold 2  15.019096\n",
            "8           LGBM  Fold 3  12.997714\n",
            "9       AdaBoost  Fold 3  13.701751\n",
            "10  RandomForest  Fold 3  13.484477\n",
            "11    ExtraTrees  Fold 3  14.878535\n",
            "12          LGBM  Fold 4  12.997789\n",
            "13      AdaBoost  Fold 4  13.677498\n",
            "14  RandomForest  Fold 4  13.471713\n",
            "15    ExtraTrees  Fold 4  14.960717\n",
            "16          LGBM  Fold 5  12.961325\n",
            "17      AdaBoost  Fold 5  13.762543\n",
            "18  RandomForest  Fold 5  13.473418\n",
            "19    ExtraTrees  Fold 5  14.852156\n"
          ]
        }
      ]
    },
    {
      "cell_type": "code",
      "source": [
        "sns.lineplot(data=df, x='fold', y='RMSE', hue='model', marker=\"o\")"
      ],
      "metadata": {
        "colab": {
          "base_uri": "https://localhost:8080/",
          "height": 467
        },
        "id": "_a3Di1dvoA7l",
        "outputId": "538c64bc-34de-42a5-cb7d-423c0003043c"
      },
      "execution_count": 81,
      "outputs": [
        {
          "output_type": "execute_result",
          "data": {
            "text/plain": [
              "<Axes: xlabel='fold', ylabel='RMSE'>"
            ]
          },
          "metadata": {},
          "execution_count": 81
        },
        {
          "output_type": "display_data",
          "data": {
            "text/plain": [
              "<Figure size 640x480 with 1 Axes>"
            ],
            "image/png": "[encoded data removed]"
          },
          "metadata": {}
        }
      ]
    },
    {
      "cell_type": "markdown",
      "source": [
        "# Light GBM tuning"
      ],
      "metadata": {
        "id": "bOcUKXyhTXFF"
      }
    },
    {
      "cell_type": "markdown",
      "source": [
        "Since Light GBM outperforms XGBoost, we will optimize it further with GridSearchCV"
      ],
      "metadata": {
        "id": "NFRB32CbTafd"
      }
    },
    {
      "cell_type": "code",
      "source": [
        "# This was taking too long because of the large size of dataset. So using default params instead\n",
        "X = train[gbdt_features]\n",
        "y = train[Target]\n",
        "\n",
        "# define the model with default hyperparameters\n",
        "model = LGBMRegressor(metric='rmse', verbose=-1, n_estimators=500, random_state=42)\n",
        "# define the grid of values to search\n",
        "\n",
        "param_grid = {\n",
        "    'max_depth': [4, 6, 8],\n",
        "    'lambda_l1': [0, 0.5],\n",
        "    'lambda_l2': [0, 0.5],\n",
        "}\n",
        "\n",
        "# define the evaluation procedure\n",
        "cv = KFold(n_splits=5, shuffle=True, random_state=42)\n",
        "# define the grid search procedure\n",
        "grid_search = GridSearchCV(estimator=model, param_grid=param_grid, n_jobs=-1, cv=cv, scoring='neg_root_mean_squared_error')\n",
        "# execute the grid search\n",
        "grid_result = grid_search.fit(X, y)\n",
        "# summarize the best score and configuration\n",
        "print(\"Best: %f using %s\" % (grid_result.best_score_, grid_result.best_params_))\n",
        "# summarize all scores that were evaluated\n",
        "means = grid_result.cv_results_['mean_test_score']\n",
        "stds = grid_result.cv_results_['std_test_score']\n",
        "params = grid_result.cv_results_['params']\n",
        "for mean, stdev, param in zip(means, stds, params):\n",
        "    print(\"%f (%f) with: %r\" % (mean, stdev, param))"
      ],
      "metadata": {
        "id": "VvQwiXDhMHlR"
      },
      "execution_count": null,
      "outputs": []
    },
    {
      "cell_type": "code",
      "source": [
        "from re import L\n",
        "from sklearn.model_selection import GridSearchCV\n",
        "# define dataset\n",
        "\n",
        "X = train[gbdt_features]\n",
        "y = train[Target]\n",
        "\n",
        "model = LGBMRegressor(metric='rmse', verbose=-1, n_estimators=500, random_state=42)\n",
        "\n",
        "model.fit(X, y)\n",
        "preds = model.predict(test[gbdt_features])\n",
        "sub[Target] = preds\n",
        "sub.to_csv('submission_lgbm.csv', index=False)"
      ],
      "metadata": {
        "id": "GTmrLhoATnL9"
      },
      "execution_count": 27,
      "outputs": []
    },
    {
      "cell_type": "code",
      "source": [
        "train_preds = model.predict(train[gbdt_features])\n",
        "print(root_mean_squared_error(train[Target], train_preds))\n",
        "\n",
        "orig_preds = model.predict(orig[gbdt_features])\n",
        "print(root_mean_squared_error(orig[Target], orig_preds))"
      ],
      "metadata": {
        "colab": {
          "base_uri": "https://localhost:8080/"
        },
        "id": "Pdp1yiiuMc2u",
        "outputId": "7b1cf7d5-ae82-4a3e-c0d7-11c1254ab1f8"
      },
      "execution_count": 28,
      "outputs": [
        {
          "output_type": "stream",
          "name": "stdout",
          "text": [
            "12.901311160476963\n",
            "13.744271839770073\n"
          ]
        }
      ]
    }
  ]
}